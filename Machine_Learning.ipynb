{
 "cells": [
  {
   "cell_type": "markdown",
   "id": "deeba7c4",
   "metadata": {},
   "source": [
    "# Importing Libraries Only Few Have Been Used Rest for Future Use"
   ]
  },
  {
   "cell_type": "code",
   "execution_count": 1,
   "id": "4ab49fd1",
   "metadata": {},
   "outputs": [],
   "source": [
    "import pandas as pd\n",
    "import pandas\n",
    "import numpy as np\n",
    "from sklearn.model_selection import train_test_split\n",
    "from sklearn.linear_model import LogisticRegression\n",
    "from sklearn.linear_model import LinearRegression\n",
    "from sklearn.metrics import mean_squared_error\n",
    "from sklearn.metrics import r2_score\n",
    "from sklearn.metrics import accuracy_score\n",
    "from sklearn.linear_model import LinearRegression\n",
    "from sklearn.metrics import classification_report\n",
    "from matplotlib import pyplot\n",
    "import matplotlib.pyplot as plt\n",
    "from sklearn.decomposition import PCA\n",
    "from sklearn.feature_selection import SelectKBest\n",
    "from sklearn.pipeline import FeatureUnion\n",
    "from sklearn.metrics import mean_squared_error\n",
    "from sklearn.metrics import r2_score\n",
    "import statsmodels.api as sm\n",
    "import seaborn as sns\n",
    "import math\n",
    "import random\n",
    "from scipy.stats import rankdata\n",
    "from sklearn.preprocessing import OneHotEncoder"
   ]
  },
  {
   "cell_type": "markdown",
   "id": "fdb4eb4f",
   "metadata": {},
   "source": [
    "# Importing MT Cars Data"
   ]
  },
  {
   "cell_type": "code",
   "execution_count": 2,
   "id": "455c5859",
   "metadata": {},
   "outputs": [
    {
     "data": {
      "text/html": [
       "<div>\n",
       "<style scoped>\n",
       "    .dataframe tbody tr th:only-of-type {\n",
       "        vertical-align: middle;\n",
       "    }\n",
       "\n",
       "    .dataframe tbody tr th {\n",
       "        vertical-align: top;\n",
       "    }\n",
       "\n",
       "    .dataframe thead th {\n",
       "        text-align: right;\n",
       "    }\n",
       "</style>\n",
       "<table border=\"1\" class=\"dataframe\">\n",
       "  <thead>\n",
       "    <tr style=\"text-align: right;\">\n",
       "      <th></th>\n",
       "      <th>model</th>\n",
       "      <th>mpg</th>\n",
       "      <th>cyl</th>\n",
       "      <th>disp</th>\n",
       "      <th>hp</th>\n",
       "      <th>drat</th>\n",
       "      <th>wt</th>\n",
       "      <th>qsec</th>\n",
       "      <th>vs</th>\n",
       "      <th>am</th>\n",
       "      <th>gear</th>\n",
       "      <th>carb</th>\n",
       "    </tr>\n",
       "  </thead>\n",
       "  <tbody>\n",
       "    <tr>\n",
       "      <th>0</th>\n",
       "      <td>Mazda RX4</td>\n",
       "      <td>21.0</td>\n",
       "      <td>6</td>\n",
       "      <td>160.0</td>\n",
       "      <td>110</td>\n",
       "      <td>3.90</td>\n",
       "      <td>2.620</td>\n",
       "      <td>16.46</td>\n",
       "      <td>0</td>\n",
       "      <td>1</td>\n",
       "      <td>4</td>\n",
       "      <td>4</td>\n",
       "    </tr>\n",
       "    <tr>\n",
       "      <th>1</th>\n",
       "      <td>Mazda RX4 Wag</td>\n",
       "      <td>21.0</td>\n",
       "      <td>6</td>\n",
       "      <td>160.0</td>\n",
       "      <td>110</td>\n",
       "      <td>3.90</td>\n",
       "      <td>2.875</td>\n",
       "      <td>17.02</td>\n",
       "      <td>0</td>\n",
       "      <td>1</td>\n",
       "      <td>4</td>\n",
       "      <td>4</td>\n",
       "    </tr>\n",
       "    <tr>\n",
       "      <th>2</th>\n",
       "      <td>Datsun 710</td>\n",
       "      <td>22.8</td>\n",
       "      <td>4</td>\n",
       "      <td>108.0</td>\n",
       "      <td>93</td>\n",
       "      <td>3.85</td>\n",
       "      <td>2.320</td>\n",
       "      <td>18.61</td>\n",
       "      <td>1</td>\n",
       "      <td>1</td>\n",
       "      <td>4</td>\n",
       "      <td>1</td>\n",
       "    </tr>\n",
       "    <tr>\n",
       "      <th>3</th>\n",
       "      <td>Hornet 4 Drive</td>\n",
       "      <td>21.4</td>\n",
       "      <td>6</td>\n",
       "      <td>258.0</td>\n",
       "      <td>110</td>\n",
       "      <td>3.08</td>\n",
       "      <td>3.215</td>\n",
       "      <td>19.44</td>\n",
       "      <td>1</td>\n",
       "      <td>0</td>\n",
       "      <td>3</td>\n",
       "      <td>1</td>\n",
       "    </tr>\n",
       "    <tr>\n",
       "      <th>4</th>\n",
       "      <td>Hornet Sportabout</td>\n",
       "      <td>18.7</td>\n",
       "      <td>8</td>\n",
       "      <td>360.0</td>\n",
       "      <td>175</td>\n",
       "      <td>3.15</td>\n",
       "      <td>3.440</td>\n",
       "      <td>17.02</td>\n",
       "      <td>0</td>\n",
       "      <td>0</td>\n",
       "      <td>3</td>\n",
       "      <td>2</td>\n",
       "    </tr>\n",
       "    <tr>\n",
       "      <th>5</th>\n",
       "      <td>Valiant</td>\n",
       "      <td>18.1</td>\n",
       "      <td>6</td>\n",
       "      <td>225.0</td>\n",
       "      <td>105</td>\n",
       "      <td>2.76</td>\n",
       "      <td>3.460</td>\n",
       "      <td>20.22</td>\n",
       "      <td>1</td>\n",
       "      <td>0</td>\n",
       "      <td>3</td>\n",
       "      <td>1</td>\n",
       "    </tr>\n",
       "    <tr>\n",
       "      <th>6</th>\n",
       "      <td>Duster 360</td>\n",
       "      <td>14.3</td>\n",
       "      <td>8</td>\n",
       "      <td>360.0</td>\n",
       "      <td>245</td>\n",
       "      <td>3.21</td>\n",
       "      <td>3.570</td>\n",
       "      <td>15.84</td>\n",
       "      <td>0</td>\n",
       "      <td>0</td>\n",
       "      <td>3</td>\n",
       "      <td>4</td>\n",
       "    </tr>\n",
       "    <tr>\n",
       "      <th>7</th>\n",
       "      <td>Merc 240D</td>\n",
       "      <td>24.4</td>\n",
       "      <td>4</td>\n",
       "      <td>146.7</td>\n",
       "      <td>62</td>\n",
       "      <td>3.69</td>\n",
       "      <td>3.190</td>\n",
       "      <td>20.00</td>\n",
       "      <td>1</td>\n",
       "      <td>0</td>\n",
       "      <td>4</td>\n",
       "      <td>2</td>\n",
       "    </tr>\n",
       "    <tr>\n",
       "      <th>8</th>\n",
       "      <td>Merc 230</td>\n",
       "      <td>22.8</td>\n",
       "      <td>4</td>\n",
       "      <td>140.8</td>\n",
       "      <td>95</td>\n",
       "      <td>3.92</td>\n",
       "      <td>3.150</td>\n",
       "      <td>22.90</td>\n",
       "      <td>1</td>\n",
       "      <td>0</td>\n",
       "      <td>4</td>\n",
       "      <td>2</td>\n",
       "    </tr>\n",
       "    <tr>\n",
       "      <th>9</th>\n",
       "      <td>Merc 280</td>\n",
       "      <td>19.2</td>\n",
       "      <td>6</td>\n",
       "      <td>167.6</td>\n",
       "      <td>123</td>\n",
       "      <td>3.92</td>\n",
       "      <td>3.440</td>\n",
       "      <td>18.30</td>\n",
       "      <td>1</td>\n",
       "      <td>0</td>\n",
       "      <td>4</td>\n",
       "      <td>4</td>\n",
       "    </tr>\n",
       "    <tr>\n",
       "      <th>10</th>\n",
       "      <td>Merc 280C</td>\n",
       "      <td>17.8</td>\n",
       "      <td>6</td>\n",
       "      <td>167.6</td>\n",
       "      <td>123</td>\n",
       "      <td>3.92</td>\n",
       "      <td>3.440</td>\n",
       "      <td>18.90</td>\n",
       "      <td>1</td>\n",
       "      <td>0</td>\n",
       "      <td>4</td>\n",
       "      <td>4</td>\n",
       "    </tr>\n",
       "    <tr>\n",
       "      <th>11</th>\n",
       "      <td>Merc 450SE</td>\n",
       "      <td>16.4</td>\n",
       "      <td>8</td>\n",
       "      <td>275.8</td>\n",
       "      <td>180</td>\n",
       "      <td>3.07</td>\n",
       "      <td>4.070</td>\n",
       "      <td>17.40</td>\n",
       "      <td>0</td>\n",
       "      <td>0</td>\n",
       "      <td>3</td>\n",
       "      <td>3</td>\n",
       "    </tr>\n",
       "    <tr>\n",
       "      <th>12</th>\n",
       "      <td>Merc 450SL</td>\n",
       "      <td>17.3</td>\n",
       "      <td>8</td>\n",
       "      <td>275.8</td>\n",
       "      <td>180</td>\n",
       "      <td>3.07</td>\n",
       "      <td>3.730</td>\n",
       "      <td>17.60</td>\n",
       "      <td>0</td>\n",
       "      <td>0</td>\n",
       "      <td>3</td>\n",
       "      <td>3</td>\n",
       "    </tr>\n",
       "    <tr>\n",
       "      <th>13</th>\n",
       "      <td>Merc 450SLC</td>\n",
       "      <td>15.2</td>\n",
       "      <td>8</td>\n",
       "      <td>275.8</td>\n",
       "      <td>180</td>\n",
       "      <td>3.07</td>\n",
       "      <td>3.780</td>\n",
       "      <td>18.00</td>\n",
       "      <td>0</td>\n",
       "      <td>0</td>\n",
       "      <td>3</td>\n",
       "      <td>3</td>\n",
       "    </tr>\n",
       "    <tr>\n",
       "      <th>14</th>\n",
       "      <td>Cadillac Fleetwood</td>\n",
       "      <td>10.4</td>\n",
       "      <td>8</td>\n",
       "      <td>472.0</td>\n",
       "      <td>205</td>\n",
       "      <td>2.93</td>\n",
       "      <td>5.250</td>\n",
       "      <td>17.98</td>\n",
       "      <td>0</td>\n",
       "      <td>0</td>\n",
       "      <td>3</td>\n",
       "      <td>4</td>\n",
       "    </tr>\n",
       "    <tr>\n",
       "      <th>15</th>\n",
       "      <td>Lincoln Continental</td>\n",
       "      <td>10.4</td>\n",
       "      <td>8</td>\n",
       "      <td>460.0</td>\n",
       "      <td>215</td>\n",
       "      <td>3.00</td>\n",
       "      <td>5.424</td>\n",
       "      <td>17.82</td>\n",
       "      <td>0</td>\n",
       "      <td>0</td>\n",
       "      <td>3</td>\n",
       "      <td>4</td>\n",
       "    </tr>\n",
       "    <tr>\n",
       "      <th>16</th>\n",
       "      <td>Chrysler Imperial</td>\n",
       "      <td>14.7</td>\n",
       "      <td>8</td>\n",
       "      <td>440.0</td>\n",
       "      <td>230</td>\n",
       "      <td>3.23</td>\n",
       "      <td>5.345</td>\n",
       "      <td>17.42</td>\n",
       "      <td>0</td>\n",
       "      <td>0</td>\n",
       "      <td>3</td>\n",
       "      <td>4</td>\n",
       "    </tr>\n",
       "    <tr>\n",
       "      <th>17</th>\n",
       "      <td>Fiat 128</td>\n",
       "      <td>32.4</td>\n",
       "      <td>4</td>\n",
       "      <td>78.7</td>\n",
       "      <td>66</td>\n",
       "      <td>4.08</td>\n",
       "      <td>2.200</td>\n",
       "      <td>19.47</td>\n",
       "      <td>1</td>\n",
       "      <td>1</td>\n",
       "      <td>4</td>\n",
       "      <td>1</td>\n",
       "    </tr>\n",
       "    <tr>\n",
       "      <th>18</th>\n",
       "      <td>Honda Civic</td>\n",
       "      <td>30.4</td>\n",
       "      <td>4</td>\n",
       "      <td>75.7</td>\n",
       "      <td>52</td>\n",
       "      <td>4.93</td>\n",
       "      <td>1.615</td>\n",
       "      <td>18.52</td>\n",
       "      <td>1</td>\n",
       "      <td>1</td>\n",
       "      <td>4</td>\n",
       "      <td>2</td>\n",
       "    </tr>\n",
       "    <tr>\n",
       "      <th>19</th>\n",
       "      <td>Toyota Corolla</td>\n",
       "      <td>33.9</td>\n",
       "      <td>4</td>\n",
       "      <td>71.1</td>\n",
       "      <td>65</td>\n",
       "      <td>4.22</td>\n",
       "      <td>1.835</td>\n",
       "      <td>19.90</td>\n",
       "      <td>1</td>\n",
       "      <td>1</td>\n",
       "      <td>4</td>\n",
       "      <td>1</td>\n",
       "    </tr>\n",
       "    <tr>\n",
       "      <th>20</th>\n",
       "      <td>Toyota Corona</td>\n",
       "      <td>21.5</td>\n",
       "      <td>4</td>\n",
       "      <td>120.1</td>\n",
       "      <td>97</td>\n",
       "      <td>3.70</td>\n",
       "      <td>2.465</td>\n",
       "      <td>20.01</td>\n",
       "      <td>1</td>\n",
       "      <td>0</td>\n",
       "      <td>3</td>\n",
       "      <td>1</td>\n",
       "    </tr>\n",
       "    <tr>\n",
       "      <th>21</th>\n",
       "      <td>Dodge Challenger</td>\n",
       "      <td>15.5</td>\n",
       "      <td>8</td>\n",
       "      <td>318.0</td>\n",
       "      <td>150</td>\n",
       "      <td>2.76</td>\n",
       "      <td>3.520</td>\n",
       "      <td>16.87</td>\n",
       "      <td>0</td>\n",
       "      <td>0</td>\n",
       "      <td>3</td>\n",
       "      <td>2</td>\n",
       "    </tr>\n",
       "    <tr>\n",
       "      <th>22</th>\n",
       "      <td>AMC Javelin</td>\n",
       "      <td>15.2</td>\n",
       "      <td>8</td>\n",
       "      <td>304.0</td>\n",
       "      <td>150</td>\n",
       "      <td>3.15</td>\n",
       "      <td>3.435</td>\n",
       "      <td>17.30</td>\n",
       "      <td>0</td>\n",
       "      <td>0</td>\n",
       "      <td>3</td>\n",
       "      <td>2</td>\n",
       "    </tr>\n",
       "    <tr>\n",
       "      <th>23</th>\n",
       "      <td>Camaro Z28</td>\n",
       "      <td>13.3</td>\n",
       "      <td>8</td>\n",
       "      <td>350.0</td>\n",
       "      <td>245</td>\n",
       "      <td>3.73</td>\n",
       "      <td>3.840</td>\n",
       "      <td>15.41</td>\n",
       "      <td>0</td>\n",
       "      <td>0</td>\n",
       "      <td>3</td>\n",
       "      <td>4</td>\n",
       "    </tr>\n",
       "    <tr>\n",
       "      <th>24</th>\n",
       "      <td>Pontiac Firebird</td>\n",
       "      <td>19.2</td>\n",
       "      <td>8</td>\n",
       "      <td>400.0</td>\n",
       "      <td>175</td>\n",
       "      <td>3.08</td>\n",
       "      <td>3.845</td>\n",
       "      <td>17.05</td>\n",
       "      <td>0</td>\n",
       "      <td>0</td>\n",
       "      <td>3</td>\n",
       "      <td>2</td>\n",
       "    </tr>\n",
       "    <tr>\n",
       "      <th>25</th>\n",
       "      <td>Fiat X1-9</td>\n",
       "      <td>27.3</td>\n",
       "      <td>4</td>\n",
       "      <td>79.0</td>\n",
       "      <td>66</td>\n",
       "      <td>4.08</td>\n",
       "      <td>1.935</td>\n",
       "      <td>18.90</td>\n",
       "      <td>1</td>\n",
       "      <td>1</td>\n",
       "      <td>4</td>\n",
       "      <td>1</td>\n",
       "    </tr>\n",
       "    <tr>\n",
       "      <th>26</th>\n",
       "      <td>Porsche 914-2</td>\n",
       "      <td>26.0</td>\n",
       "      <td>4</td>\n",
       "      <td>120.3</td>\n",
       "      <td>91</td>\n",
       "      <td>4.43</td>\n",
       "      <td>2.140</td>\n",
       "      <td>16.70</td>\n",
       "      <td>0</td>\n",
       "      <td>1</td>\n",
       "      <td>5</td>\n",
       "      <td>2</td>\n",
       "    </tr>\n",
       "    <tr>\n",
       "      <th>27</th>\n",
       "      <td>Lotus Europa</td>\n",
       "      <td>30.4</td>\n",
       "      <td>4</td>\n",
       "      <td>95.1</td>\n",
       "      <td>113</td>\n",
       "      <td>3.77</td>\n",
       "      <td>1.513</td>\n",
       "      <td>16.90</td>\n",
       "      <td>1</td>\n",
       "      <td>1</td>\n",
       "      <td>5</td>\n",
       "      <td>2</td>\n",
       "    </tr>\n",
       "    <tr>\n",
       "      <th>28</th>\n",
       "      <td>Ford Pantera L</td>\n",
       "      <td>15.8</td>\n",
       "      <td>8</td>\n",
       "      <td>351.0</td>\n",
       "      <td>264</td>\n",
       "      <td>4.22</td>\n",
       "      <td>3.170</td>\n",
       "      <td>14.50</td>\n",
       "      <td>0</td>\n",
       "      <td>1</td>\n",
       "      <td>5</td>\n",
       "      <td>4</td>\n",
       "    </tr>\n",
       "    <tr>\n",
       "      <th>29</th>\n",
       "      <td>Ferrari Dino</td>\n",
       "      <td>19.7</td>\n",
       "      <td>6</td>\n",
       "      <td>145.0</td>\n",
       "      <td>175</td>\n",
       "      <td>3.62</td>\n",
       "      <td>2.770</td>\n",
       "      <td>15.50</td>\n",
       "      <td>0</td>\n",
       "      <td>1</td>\n",
       "      <td>5</td>\n",
       "      <td>6</td>\n",
       "    </tr>\n",
       "    <tr>\n",
       "      <th>30</th>\n",
       "      <td>Maserati Bora</td>\n",
       "      <td>15.0</td>\n",
       "      <td>8</td>\n",
       "      <td>301.0</td>\n",
       "      <td>335</td>\n",
       "      <td>3.54</td>\n",
       "      <td>3.570</td>\n",
       "      <td>14.60</td>\n",
       "      <td>0</td>\n",
       "      <td>1</td>\n",
       "      <td>5</td>\n",
       "      <td>8</td>\n",
       "    </tr>\n",
       "    <tr>\n",
       "      <th>31</th>\n",
       "      <td>Volvo 142E</td>\n",
       "      <td>21.4</td>\n",
       "      <td>4</td>\n",
       "      <td>121.0</td>\n",
       "      <td>109</td>\n",
       "      <td>4.11</td>\n",
       "      <td>2.780</td>\n",
       "      <td>18.60</td>\n",
       "      <td>1</td>\n",
       "      <td>1</td>\n",
       "      <td>4</td>\n",
       "      <td>2</td>\n",
       "    </tr>\n",
       "  </tbody>\n",
       "</table>\n",
       "</div>"
      ],
      "text/plain": [
       "                  model   mpg  cyl   disp   hp  drat     wt   qsec  vs  am  \\\n",
       "0             Mazda RX4  21.0    6  160.0  110  3.90  2.620  16.46   0   1   \n",
       "1         Mazda RX4 Wag  21.0    6  160.0  110  3.90  2.875  17.02   0   1   \n",
       "2            Datsun 710  22.8    4  108.0   93  3.85  2.320  18.61   1   1   \n",
       "3        Hornet 4 Drive  21.4    6  258.0  110  3.08  3.215  19.44   1   0   \n",
       "4     Hornet Sportabout  18.7    8  360.0  175  3.15  3.440  17.02   0   0   \n",
       "5               Valiant  18.1    6  225.0  105  2.76  3.460  20.22   1   0   \n",
       "6            Duster 360  14.3    8  360.0  245  3.21  3.570  15.84   0   0   \n",
       "7             Merc 240D  24.4    4  146.7   62  3.69  3.190  20.00   1   0   \n",
       "8              Merc 230  22.8    4  140.8   95  3.92  3.150  22.90   1   0   \n",
       "9              Merc 280  19.2    6  167.6  123  3.92  3.440  18.30   1   0   \n",
       "10            Merc 280C  17.8    6  167.6  123  3.92  3.440  18.90   1   0   \n",
       "11           Merc 450SE  16.4    8  275.8  180  3.07  4.070  17.40   0   0   \n",
       "12           Merc 450SL  17.3    8  275.8  180  3.07  3.730  17.60   0   0   \n",
       "13          Merc 450SLC  15.2    8  275.8  180  3.07  3.780  18.00   0   0   \n",
       "14   Cadillac Fleetwood  10.4    8  472.0  205  2.93  5.250  17.98   0   0   \n",
       "15  Lincoln Continental  10.4    8  460.0  215  3.00  5.424  17.82   0   0   \n",
       "16    Chrysler Imperial  14.7    8  440.0  230  3.23  5.345  17.42   0   0   \n",
       "17             Fiat 128  32.4    4   78.7   66  4.08  2.200  19.47   1   1   \n",
       "18          Honda Civic  30.4    4   75.7   52  4.93  1.615  18.52   1   1   \n",
       "19       Toyota Corolla  33.9    4   71.1   65  4.22  1.835  19.90   1   1   \n",
       "20        Toyota Corona  21.5    4  120.1   97  3.70  2.465  20.01   1   0   \n",
       "21     Dodge Challenger  15.5    8  318.0  150  2.76  3.520  16.87   0   0   \n",
       "22          AMC Javelin  15.2    8  304.0  150  3.15  3.435  17.30   0   0   \n",
       "23           Camaro Z28  13.3    8  350.0  245  3.73  3.840  15.41   0   0   \n",
       "24     Pontiac Firebird  19.2    8  400.0  175  3.08  3.845  17.05   0   0   \n",
       "25            Fiat X1-9  27.3    4   79.0   66  4.08  1.935  18.90   1   1   \n",
       "26        Porsche 914-2  26.0    4  120.3   91  4.43  2.140  16.70   0   1   \n",
       "27         Lotus Europa  30.4    4   95.1  113  3.77  1.513  16.90   1   1   \n",
       "28       Ford Pantera L  15.8    8  351.0  264  4.22  3.170  14.50   0   1   \n",
       "29         Ferrari Dino  19.7    6  145.0  175  3.62  2.770  15.50   0   1   \n",
       "30        Maserati Bora  15.0    8  301.0  335  3.54  3.570  14.60   0   1   \n",
       "31           Volvo 142E  21.4    4  121.0  109  4.11  2.780  18.60   1   1   \n",
       "\n",
       "    gear  carb  \n",
       "0      4     4  \n",
       "1      4     4  \n",
       "2      4     1  \n",
       "3      3     1  \n",
       "4      3     2  \n",
       "5      3     1  \n",
       "6      3     4  \n",
       "7      4     2  \n",
       "8      4     2  \n",
       "9      4     4  \n",
       "10     4     4  \n",
       "11     3     3  \n",
       "12     3     3  \n",
       "13     3     3  \n",
       "14     3     4  \n",
       "15     3     4  \n",
       "16     3     4  \n",
       "17     4     1  \n",
       "18     4     2  \n",
       "19     4     1  \n",
       "20     3     1  \n",
       "21     3     2  \n",
       "22     3     2  \n",
       "23     3     4  \n",
       "24     3     2  \n",
       "25     4     1  \n",
       "26     5     2  \n",
       "27     5     2  \n",
       "28     5     4  \n",
       "29     5     6  \n",
       "30     5     8  \n",
       "31     4     2  "
      ]
     },
     "execution_count": 2,
     "metadata": {},
     "output_type": "execute_result"
    }
   ],
   "source": [
    "df=pd.read_csv(\"/Users/sunitjadeja/Desktop/TISS All Subject/Machine Learning/mtcars.csv\", encoding=\"unicode_escape\")\n",
    "df"
   ]
  },
  {
   "cell_type": "markdown",
   "id": "14c1818f",
   "metadata": {},
   "source": [
    "# Linear Regression With Inbuild Python Libraries"
   ]
  },
  {
   "cell_type": "code",
   "execution_count": 3,
   "id": "3afb8ef6",
   "metadata": {},
   "outputs": [],
   "source": [
    "y=df[[\"mpg\"]]\n",
    "X=df[[\"hp\"]]"
   ]
  },
  {
   "cell_type": "code",
   "execution_count": 4,
   "id": "577bebf4",
   "metadata": {},
   "outputs": [],
   "source": [
    "test_size=16\n",
    "seed= 7 ##this seeding helps in keeping randomness of train & test split the same as many times one runs the model or sends the script to someother machin"
   ]
  },
  {
   "cell_type": "code",
   "execution_count": 5,
   "id": "2674e77d",
   "metadata": {},
   "outputs": [
    {
     "name": "stdout",
     "output_type": "stream",
     "text": [
      "rmse 3.6812316301721313\n",
      "r2 0.5502328614666905\n",
      "Slope: [[-0.05978917]]\n",
      "Intercept: [28.8331069]\n"
     ]
    }
   ],
   "source": [
    "X_train, X_test, y_train, y_test = train_test_split(X, y,test_size=test_size, random_state=seed)\n",
    "lin_reg_mod = LinearRegression()\n",
    "reg=lin_reg_mod.fit(X_train, y_train)\n",
    "pred = lin_reg_mod.predict(X_test)\n",
    "test_set_rmse = (np.sqrt(mean_squared_error(y_test, pred)))\n",
    "\n",
    "test_set_r2 = r2_score(y_test, pred)\n",
    "print(\"rmse\",test_set_rmse)\n",
    "print(\"r2\",test_set_r2)\n",
    "print('Slope:' ,lin_reg_mod.coef_)\n",
    "print('Intercept:', lin_reg_mod.intercept_)"
   ]
  },
  {
   "cell_type": "markdown",
   "id": "897cf060",
   "metadata": {},
   "source": [
    "# OLS Model To Predict With Different Value & To Plot Best Fit Line"
   ]
  },
  {
   "cell_type": "code",
   "execution_count": 6,
   "id": "e2b90100",
   "metadata": {},
   "outputs": [],
   "source": [
    "y=df[[\"mpg\"]]\n",
    "x=df[[\"hp\"]]\n",
    "X1=sm.add_constant(x)\n",
    "#Modelling using OLS least sqaure method\n",
    "model=sm.OLS(y,X1)\n",
    "fitted1=model.fit()"
   ]
  },
  {
   "cell_type": "code",
   "execution_count": 7,
   "id": "484fcaf2",
   "metadata": {},
   "outputs": [
    {
     "data": {
      "image/png": "[encoded data removed]",
      "text/plain": [
       "<Figure size 864x576 with 1 Axes>"
      ]
     },
     "metadata": {
      "needs_background": "light"
     },
     "output_type": "display_data"
    }
   ],
   "source": [
    "fig,ax = plt.subplots(figsize=(12,8))\n",
    "plt.scatter(X,y,)\n",
    "plt.scatter(X,fitted1.fittedvalues, c=\"orange\")\n",
    "plt.show()"
   ]
  },
  {
   "cell_type": "code",
   "execution_count": 8,
   "id": "e29298d9",
   "metadata": {},
   "outputs": [
    {
     "data": {
      "text/plain": [
       "Text(0, 0.5, 'mpg')"
      ]
     },
     "execution_count": 8,
     "metadata": {},
     "output_type": "execute_result"
    },
    {
     "data": {
      "image/png": "[encoded data removed]",
      "text/plain": [
       "<Figure size 864x576 with 1 Axes>"
      ]
     },
     "metadata": {
      "needs_background": "light"
     },
     "output_type": "display_data"
    }
   ],
   "source": [
    "fig,ax = plt.subplots(figsize=(12,8))\n",
    "plt.scatter(X,y)\n",
    "plt.plot(X,reg.predict(x),color='orange')\n",
    "plt.title(\"Regression Model\")\n",
    "plt.xlabel(\"hp\")\n",
    "plt.ylabel(\"mpg\")"
   ]
  },
  {
   "cell_type": "markdown",
   "id": "402ae62f",
   "metadata": {},
   "source": [
    "# Predicting With Different Values at The Moment It is 270 Hp"
   ]
  },
  {
   "cell_type": "code",
   "execution_count": 9,
   "id": "96a57d09",
   "metadata": {},
   "outputs": [
    {
     "data": {
      "text/plain": [
       "array([11.67722546])"
      ]
     },
     "execution_count": 9,
     "metadata": {},
     "output_type": "execute_result"
    }
   ],
   "source": [
    "fitted1.predict([1,270])"
   ]
  },
  {
   "cell_type": "markdown",
   "id": "2b23a44b",
   "metadata": {},
   "source": [
    "# Coefficient of Determination for Test Data"
   ]
  },
  {
   "cell_type": "code",
   "execution_count": 10,
   "id": "36358ff2",
   "metadata": {},
   "outputs": [
    {
     "data": {
      "text/plain": [
       "mpg    458.077571\n",
       "dtype: float64"
      ]
     },
     "execution_count": 10,
     "metadata": {},
     "output_type": "execute_result"
    }
   ],
   "source": [
    "y_predicted = reg.predict(x)\n",
    "residuals = y-y_predicted\n",
    "SSe=residuals*residuals\n",
    "SSE=SSe.sum()\n",
    "SSE"
   ]
  },
  {
   "cell_type": "code",
   "execution_count": 11,
   "id": "1fc75968",
   "metadata": {},
   "outputs": [
    {
     "data": {
      "text/plain": [
       "mpg    1126.047187\n",
       "dtype: float64"
      ]
     },
     "execution_count": 11,
     "metadata": {},
     "output_type": "execute_result"
    }
   ],
   "source": [
    "tse=y-y.mean()\n",
    "TSe=tse*tse\n",
    "TSE=TSe.sum()\n",
    "TSE"
   ]
  },
  {
   "cell_type": "code",
   "execution_count": 12,
   "id": "044df930",
   "metadata": {},
   "outputs": [
    {
     "data": {
      "text/plain": [
       "mpg    0.593199\n",
       "dtype: float64"
      ]
     },
     "execution_count": 12,
     "metadata": {},
     "output_type": "execute_result"
    }
   ],
   "source": [
    "coefficient_of_determination=1-(SSE/TSE)\n",
    "coefficient_of_determination"
   ]
  },
  {
   "cell_type": "markdown",
   "id": "dd2c6551",
   "metadata": {},
   "source": [
    "# Importing Housing Data"
   ]
  },
  {
   "cell_type": "code",
   "execution_count": 13,
   "id": "ba497dc2",
   "metadata": {},
   "outputs": [],
   "source": [
    "df=pd.read_excel(\"/Users/sunitjadeja/Desktop/TISS All Subject/Machine Learning/HousingData.xls\")"
   ]
  },
  {
   "cell_type": "markdown",
   "id": "97c43f20",
   "metadata": {},
   "source": [
    "# Test Train Split"
   ]
  },
  {
   "cell_type": "code",
   "execution_count": 14,
   "id": "ff234c8f",
   "metadata": {},
   "outputs": [],
   "source": [
    "test_size=0.33\n",
    "seed= 7\n",
    "train_data,test_data = train_test_split(df,test_size=test_size, random_state=seed)"
   ]
  },
  {
   "cell_type": "code",
   "execution_count": 15,
   "id": "1205343b",
   "metadata": {},
   "outputs": [
    {
     "name": "stdout",
     "output_type": "stream",
     "text": [
      "(339,)\n",
      "(339, 2)\n"
     ]
    }
   ],
   "source": [
    "y=train_data[[\"MEDV\"]]\n",
    "x=train_data[[\"RM\"]]\n",
    "X = np.c_[np.ones((339,1)),x]\n",
    "Y=np.array(train_data['MEDV'])\n",
    "print (Y.shape)\n",
    "print (X.shape)"
   ]
  },
  {
   "cell_type": "markdown",
   "id": "2c71e91e",
   "metadata": {},
   "source": [
    "# Gradient Descent Function "
   ]
  },
  {
   "cell_type": "markdown",
   "id": "a7677e2a",
   "metadata": {},
   "source": [
    "# Cost Function & Gradients\n",
    "\n",
    "<h4> The equation for calculating cost function and gradients are as shown below. Please note the cost function is for Linear regression. For other algorithms the cost function will be different and the gradients would have  to be derived from the cost functions"
   ]
  },
  {
   "cell_type": "markdown",
   "id": "343a10d3",
   "metadata": {},
   "source": [
    "\n",
    "\n",
    "<b>Cost</b>\n",
    "\\begin{equation}\n",
    "J(\\theta) = 1/2m \\sum_{i=1}^{m} (h(\\theta)^{(i)} - y^{(i)})^2 \n",
    "\\end{equation}\n",
    "\n",
    "<b>Gradient</b>\n",
    "\n",
    "\\begin{equation}\n",
    "\\frac{\\partial J(\\theta)}{\\partial \\theta_j} = 1/m\\sum_{i=1}^{m}(h(\\theta^{(i)} - y^{(i)}).X_j^{(i)}\n",
    "\\end{equation}\n",
    "\n",
    "<b>Gradients</b>\n",
    "\\begin{equation}\n",
    "\\theta_0: = \\theta_0 -\\alpha . (1/m .\\sum_{i=1}^{m}(h(\\theta^{(i)} - y^{(i)}).X_0^{(i)})\n",
    "\\end{equation}\n",
    "\\begin{equation}\n",
    "\\theta_1: = \\theta_1 -\\alpha . (1/m .\\sum_{i=1}^{m}(h(\\theta^{(i)} - y^{(i)}).X_1^{(i)})\n",
    "\\end{equation}\n",
    "\\begin{equation}\n",
    "\\theta_2: = \\theta_2 -\\alpha . (1/m .\\sum_{i=1}^{m}(h(\\theta^{(i)} - y^{(i)}).X_2^{(i)})\n",
    "\\end{equation}\n",
    "\n",
    "\\begin{equation}\n",
    "\\theta_j: = \\theta_j -\\alpha . (1/m .\\sum_{i=1}^{m}(h(\\theta^{(i)} - y^{(i)}).X_0^{(i)})\n",
    "\\end{equation}"
   ]
  },
  {
   "cell_type": "markdown",
   "id": "91562a76",
   "metadata": {},
   "source": [
    "# Linear Regression Function"
   ]
  },
  {
   "cell_type": "code",
   "execution_count": 16,
   "id": "4e2541a0",
   "metadata": {},
   "outputs": [],
   "source": [
    "alpha = 0.01 #Step size\n",
    "iterations = 200 #No. of iterations\n",
    "m = y.size #No. of data points\n",
    "np.random.seed(456) #Set the seed\n",
    "theta = np.random.rand(2) #Pick some random values to start with\n",
    "\n",
    "\n",
    "#GRADIENT DESCENT\n",
    "def gradient_descent(x, y, theta, iterations, alpha):\n",
    "    past_costs = []\n",
    "    past_thetas = [theta]\n",
    "    for i in range(iterations):\n",
    "        prediction = np.dot(x, theta)\n",
    "        error = prediction - y\n",
    "        cost = np.sum(np.square(error)/(2*len(y)))\n",
    "        past_costs.append(cost)\n",
    "        theta = theta - (alpha * (1/m) * np.dot(x.T, error))\n",
    "        past_thetas.append(theta)\n",
    "        \n",
    "    return past_thetas, past_costs"
   ]
  },
  {
   "cell_type": "markdown",
   "id": "7aed90e3",
   "metadata": {},
   "source": [
    "# Final Cost & Beta Values"
   ]
  },
  {
   "cell_type": "code",
   "execution_count": 17,
   "id": "5e67bd7f",
   "metadata": {},
   "outputs": [
    {
     "name": "stdout",
     "output_type": "stream",
     "text": [
      "[[-0.21760213]\n",
      " [ 3.72439419]]\n"
     ]
    },
    {
     "data": {
      "text/plain": [
       "28.946715502871193"
      ]
     },
     "execution_count": 17,
     "metadata": {},
     "output_type": "execute_result"
    }
   ],
   "source": [
    "past_thetas, past_costs = gradient_descent(X, Y, theta, iterations, alpha)\n",
    "#parameter_values= pd.DataFrame(past_thetas)\n",
    "cost_values= pd.DataFrame(past_costs)\n",
    "alpha=past_thetas[-1]\n",
    "alpha.resize((2, 1))\n",
    "print(alpha)\n",
    "past_costs.pop()"
   ]
  },
  {
   "cell_type": "markdown",
   "id": "15afae07",
   "metadata": {},
   "source": [
    "# Plotting cost history over iterations"
   ]
  },
  {
   "cell_type": "code",
   "execution_count": 18,
   "id": "91df5e1e",
   "metadata": {},
   "outputs": [
    {
     "data": {
      "image/png": "[encoded data removed]",
      "text/plain": [
       "<Figure size 864x576 with 1 Axes>"
      ]
     },
     "metadata": {
      "needs_background": "light"
     },
     "output_type": "display_data"
    }
   ],
   "source": [
    "fig,ax = plt.subplots(figsize=(12,8))\n",
    "\n",
    "ax.set_ylabel('Cost')\n",
    "ax.set_xlabel('Iterations')\n",
    "plt.title('Cost Function ')\n",
    "_=ax.plot(range(iterations),cost_values,'b.')"
   ]
  },
  {
   "cell_type": "markdown",
   "id": "f251b041",
   "metadata": {},
   "source": [
    "# <h3> After around 10 iterations the cost is flat so the remaining iterations  are not needed or will not result in any further optimization. Let us zoom in till iteration 20 and see the curve"
   ]
  },
  {
   "cell_type": "code",
   "execution_count": 19,
   "id": "beb22b4e",
   "metadata": {},
   "outputs": [
    {
     "data": {
      "image/png": "[encoded data removed]",
      "text/plain": [
       "<Figure size 720x576 with 1 Axes>"
      ]
     },
     "metadata": {
      "needs_background": "light"
     },
     "output_type": "display_data"
    }
   ],
   "source": [
    "fig,ax = plt.subplots(figsize=(10,8))\n",
    "_=ax.plot(range(20),cost_values[:20],'b.')"
   ]
  },
  {
   "cell_type": "markdown",
   "id": "191529f9",
   "metadata": {},
   "source": [
    "# Plotting Best Fit Line For Our Data"
   ]
  },
  {
   "cell_type": "code",
   "execution_count": 20,
   "id": "71d95f67",
   "metadata": {},
   "outputs": [
    {
     "data": {
      "text/plain": [
       "Text(0, 0.5, 'MEDV')"
      ]
     },
     "execution_count": 20,
     "metadata": {},
     "output_type": "execute_result"
    },
    {
     "data": {
      "image/png": "[encoded data removed]",
      "text/plain": [
       "<Figure size 864x576 with 1 Axes>"
      ]
     },
     "metadata": {
      "needs_background": "light"
     },
     "output_type": "display_data"
    }
   ],
   "source": [
    "pred=np.dot(X,alpha)\n",
    "fig,ax = plt.subplots(figsize=(12,8))\n",
    "plt.scatter(x,y)\n",
    "plt.plot(x,pred,color='red')\n",
    "plt.title(\"Gradient Descent Regression Model\")\n",
    "plt.xlabel(\"RM\")\n",
    "plt.ylabel(\"MEDV\")"
   ]
  },
  {
   "cell_type": "markdown",
   "id": "e04f56f7",
   "metadata": {},
   "source": [
    "# Calculating R square for Our Model"
   ]
  },
  {
   "cell_type": "code",
   "execution_count": 21,
   "id": "c2ebce51",
   "metadata": {},
   "outputs": [],
   "source": [
    "y_t=test_data[[\"MEDV\"]]\n",
    "# y_t=train_data[[\"RM\"]]\n",
    "Y_t = np.c_[np.ones((167,1)),y_t]\n",
    "# Y_t=np.array(train_data['MEDV'])"
   ]
  },
  {
   "cell_type": "code",
   "execution_count": 22,
   "id": "85ba7791",
   "metadata": {},
   "outputs": [],
   "source": [
    "pred_t=np.dot(Y_t,alpha)"
   ]
  },
  {
   "cell_type": "code",
   "execution_count": 23,
   "id": "32049c86",
   "metadata": {},
   "outputs": [
    {
     "data": {
      "text/plain": [
       "49.26404758233035"
      ]
     },
     "execution_count": 23,
     "metadata": {},
     "output_type": "execute_result"
    }
   ],
   "source": [
    "RSS=np.sum(np.square(Y_t - pred_t ))\n",
    "TSS=np.sum(((Y_t)- (np.square(Y_t.mean()))))\n",
    "Rsq = (1 - (RSS/TSS))\n",
    "Rsq"
   ]
  },
  {
   "cell_type": "markdown",
   "id": "be9eab35",
   "metadata": {},
   "source": [
    "One can change the cost function & see the different fit line along with R square values. In above model I have use RMSE one can use MSE, simply mean difference from predicted or log linear as well"
   ]
  },
  {
   "cell_type": "markdown",
   "id": "34a4578d",
   "metadata": {},
   "source": [
    "# Logistic Regression With Inbuild Python Libraries\n",
    "Importing the data"
   ]
  },
  {
   "cell_type": "code",
   "execution_count": 24,
   "id": "811de01a",
   "metadata": {},
   "outputs": [
    {
     "name": "stdout",
     "output_type": "stream",
     "text": [
      "      Id  SepalLengthCm  SepalWidthCm  PetalLengthCm  PetalWidthCm  \\\n",
      "0      1            5.1           3.5            1.4           0.2   \n",
      "1      2            4.9           3.0            1.4           0.2   \n",
      "2      3            4.7           3.2            1.3           0.2   \n",
      "3      4            4.6           3.1            1.5           0.2   \n",
      "4      5            5.0           3.6            1.4           0.2   \n",
      "..   ...            ...           ...            ...           ...   \n",
      "145  146            6.7           3.0            5.2           2.3   \n",
      "146  147            6.3           2.5            5.0           1.9   \n",
      "147  148            6.5           3.0            5.2           2.0   \n",
      "148  149            6.2           3.4            5.4           2.3   \n",
      "149  150            5.9           3.0            5.1           1.8   \n",
      "\n",
      "            Species  \n",
      "0       Iris-setosa  \n",
      "1       Iris-setosa  \n",
      "2       Iris-setosa  \n",
      "3       Iris-setosa  \n",
      "4       Iris-setosa  \n",
      "..              ...  \n",
      "145  Iris-virginica  \n",
      "146  Iris-virginica  \n",
      "147  Iris-virginica  \n",
      "148  Iris-virginica  \n",
      "149  Iris-virginica  \n",
      "\n",
      "[150 rows x 6 columns]\n"
     ]
    }
   ],
   "source": [
    "df=pd.read_csv(\"/Users/sunitjadeja/Desktop/Python/Iris.csv\")\n",
    "print (df)"
   ]
  },
  {
   "cell_type": "markdown",
   "id": "7a64e9c4",
   "metadata": {},
   "source": [
    "# Plotting Our Predictor Variables"
   ]
  },
  {
   "cell_type": "code",
   "execution_count": 25,
   "id": "76a75817",
   "metadata": {},
   "outputs": [
    {
     "data": {
      "text/plain": [
       "Text(0, 0.5, 'Sepal Width')"
      ]
     },
     "execution_count": 25,
     "metadata": {},
     "output_type": "execute_result"
    },
    {
     "data": {
      "image/png": "[encoded data removed]",
      "text/plain": [
       "<Figure size 864x576 with 1 Axes>"
      ]
     },
     "metadata": {
      "needs_background": "light"
     },
     "output_type": "display_data"
    }
   ],
   "source": [
    "y=df[[\"SepalWidthCm\"]]\n",
    "x=df[[\"SepalLengthCm\"]]\n",
    "fig,ax = plt.subplots(figsize=(12,8))\n",
    "plt.scatter(x,y)\n",
    "plt.title(\"Logistic Regression\")\n",
    "plt.xlabel(\"Sepal Length\")\n",
    "plt.ylabel(\"Sepal Width\")"
   ]
  },
  {
   "cell_type": "markdown",
   "id": "62a50b7b",
   "metadata": {},
   "source": [
    "# Plotting Our Predictor Variables With Predictied Variable"
   ]
  },
  {
   "cell_type": "code",
   "execution_count": 26,
   "id": "7964aa76",
   "metadata": {},
   "outputs": [
    {
     "data": {
      "image/png": "[encoded data removed]",
      "text/plain": [
       "<Figure size 463.25x360 with 1 Axes>"
      ]
     },
     "metadata": {
      "needs_background": "light"
     },
     "output_type": "display_data"
    }
   ],
   "source": [
    "sns.relplot(x=\"SepalLengthCm\", y=\"SepalWidthCm\", hue=\"Species\", data=df);\n",
    "plt.show()"
   ]
  },
  {
   "cell_type": "markdown",
   "id": "dc7f8170",
   "metadata": {},
   "source": [
    "# Converting Categorical To Binary(Species_d Column)"
   ]
  },
  {
   "cell_type": "code",
   "execution_count": 27,
   "id": "030ca76d",
   "metadata": {},
   "outputs": [
    {
     "name": "stdout",
     "output_type": "stream",
     "text": [
      "      Id  SepalLengthCm  SepalWidthCm  PetalLengthCm  PetalWidthCm  \\\n",
      "0      1            5.1           3.5            1.4           0.2   \n",
      "1      2            4.9           3.0            1.4           0.2   \n",
      "2      3            4.7           3.2            1.3           0.2   \n",
      "3      4            4.6           3.1            1.5           0.2   \n",
      "4      5            5.0           3.6            1.4           0.2   \n",
      "..   ...            ...           ...            ...           ...   \n",
      "145  146            6.7           3.0            5.2           2.3   \n",
      "146  147            6.3           2.5            5.0           1.9   \n",
      "147  148            6.5           3.0            5.2           2.0   \n",
      "148  149            6.2           3.4            5.4           2.3   \n",
      "149  150            5.9           3.0            5.1           1.8   \n",
      "\n",
      "            Species  Species_d  \n",
      "0       Iris-setosa          0  \n",
      "1       Iris-setosa          0  \n",
      "2       Iris-setosa          0  \n",
      "3       Iris-setosa          0  \n",
      "4       Iris-setosa          0  \n",
      "..              ...        ...  \n",
      "145  Iris-virginica          1  \n",
      "146  Iris-virginica          1  \n",
      "147  Iris-virginica          1  \n",
      "148  Iris-virginica          1  \n",
      "149  Iris-virginica          1  \n",
      "\n",
      "[150 rows x 7 columns]\n"
     ]
    }
   ],
   "source": [
    "from sklearn.preprocessing import LabelEncoder\n",
    "le = LabelEncoder()\n",
    "df['Species_d'] = le.fit_transform(df['Species'])\n",
    "df\n",
    "df[\"Species_d\"].replace({2: 1, 1: 0}, inplace=True)\n",
    "print(df)"
   ]
  },
  {
   "cell_type": "markdown",
   "id": "6b6a8250",
   "metadata": {},
   "source": [
    "# Plotting Our New Variable"
   ]
  },
  {
   "cell_type": "code",
   "execution_count": 28,
   "id": "dd6e59e4",
   "metadata": {},
   "outputs": [
    {
     "data": {
      "image/png": "[encoded data removed]",
      "text/plain": [
       "<Figure size 417.75x360 with 1 Axes>"
      ]
     },
     "metadata": {
      "needs_background": "light"
     },
     "output_type": "display_data"
    }
   ],
   "source": [
    "sns.relplot(x=\"SepalLengthCm\", y=\"SepalWidthCm\", hue=\"Species_d\", data=df);\n",
    "plt.show()"
   ]
  },
  {
   "cell_type": "markdown",
   "id": "a9843bcf",
   "metadata": {},
   "source": [
    "# Test & Train Split"
   ]
  },
  {
   "cell_type": "code",
   "execution_count": 29,
   "id": "6dd87117",
   "metadata": {},
   "outputs": [],
   "source": [
    "test_size=0.20\n",
    "seed= 7\n",
    "Y=df[[\"Species_d\"]]\n",
    "X=df[[\"SepalLengthCm\",\"SepalWidthCm\",\"Species_d\"]]\n",
    "train_data, test_data = train_test_split(X,test_size=test_size, random_state=seed)"
   ]
  },
  {
   "cell_type": "markdown",
   "id": "f2143df4",
   "metadata": {},
   "source": [
    "# Using Logit Function To get The Coefficient Values"
   ]
  },
  {
   "cell_type": "code",
   "execution_count": 30,
   "id": "5b7d8a56",
   "metadata": {},
   "outputs": [
    {
     "name": "stdout",
     "output_type": "stream",
     "text": [
      "Optimization terminated successfully.\n",
      "         Current function value: 0.343771\n",
      "         Iterations 7\n",
      "                           Logit Regression Results                           \n",
      "==============================================================================\n",
      "Dep. Variable:              Species_d   No. Observations:                  120\n",
      "Model:                          Logit   Df Residuals:                      117\n",
      "Method:                           MLE   Df Model:                            2\n",
      "Date:                Mon, 18 Oct 2021   Pseudo R-squ.:                  0.4548\n",
      "Time:                        17:27:39   Log-Likelihood:                -41.253\n",
      "converged:                       True   LL-Null:                       -75.670\n",
      "Covariance Type:            nonrobust   LLR p-value:                 1.129e-15\n",
      "=================================================================================\n",
      "                    coef    std err          z      P>|z|      [0.025      0.975]\n",
      "---------------------------------------------------------------------------------\n",
      "const           -18.4454      4.183     -4.410      0.000     -26.643     -10.248\n",
      "SepalLengthCm     3.0256      0.574      5.267      0.000       1.900       4.152\n",
      "SepalWidthCm     -0.2004      0.718     -0.279      0.780      -1.608       1.207\n",
      "=================================================================================\n"
     ]
    },
    {
     "data": {
      "text/plain": [
       "const           -18.445366\n",
       "SepalLengthCm     3.025558\n",
       "SepalWidthCm     -0.200417\n",
       "dtype: float64"
      ]
     },
     "execution_count": 30,
     "metadata": {},
     "output_type": "execute_result"
    }
   ],
   "source": [
    "y=train_data[[\"Species_d\"]]\n",
    "x=train_data[[\"SepalLengthCm\",\"SepalWidthCm\"]]\n",
    "X = sm.add_constant(x)\n",
    "model =sm.Logit(y, X).fit()\n",
    "print(model.summary())\n",
    "parameters=model.params\n",
    "alpha=parameters.to_numpy()\n",
    "#b = model.intercept_[0]\n",
    "#w1, w2 = model.coef_.T\n",
    "parameters"
   ]
  },
  {
   "cell_type": "markdown",
   "id": "295c07d5",
   "metadata": {},
   "source": [
    "# Slop & Intercept Values"
   ]
  },
  {
   "cell_type": "code",
   "execution_count": 31,
   "id": "9aca3882",
   "metadata": {},
   "outputs": [],
   "source": [
    "m=-alpha[1]/alpha[2]\n",
    "c=-alpha[0]/alpha[2]"
   ]
  },
  {
   "cell_type": "markdown",
   "id": "68d73d02",
   "metadata": {},
   "source": [
    "# Plotting Our Decision Boundary "
   ]
  },
  {
   "cell_type": "code",
   "execution_count": 32,
   "id": "3840c4cf",
   "metadata": {},
   "outputs": [
    {
     "data": {
      "image/png": "[encoded data removed]",
      "text/plain": [
       "<Figure size 864x576 with 1 Axes>"
      ]
     },
     "metadata": {
      "needs_background": "light"
     },
     "output_type": "display_data"
    }
   ],
   "source": [
    "y=train_data[[\"SepalWidthCm\"]]\n",
    "x=train_data[[\"SepalLengthCm\"]]\n",
    "fig,ax = plt.subplots(figsize=(12,8))\n",
    "xmin, xmax = 4, 8\n",
    "ymin, ymax = 1.5, 4.5\n",
    "xd = np.array([xmin, xmax])\n",
    "yd = m*xd + c\n",
    "plt.plot(xd, yd, 'k', lw=1, ls='--')\n",
    "plt.fill_between(xd, yd, ymin, color='tab:blue')\n",
    "plt.fill_between(xd, yd, ymax, color='tab:orange')\n",
    "plt.scatter(x,y, c=train_data[\"Species_d\"])\n",
    "plt.xlim(xmin, xmax)\n",
    "plt.ylim(ymin, ymax)\n",
    "plt.ylabel(\"SepalWidthCm\")\n",
    "plt.xlabel(\"SepalLengthCm\")\n",
    "plt.show()"
   ]
  },
  {
   "cell_type": "markdown",
   "id": "cd430fea",
   "metadata": {},
   "source": [
    "# Using Sigmoid Function To Convert Outcome into Probabilties & Plotting the Same"
   ]
  },
  {
   "cell_type": "code",
   "execution_count": 33,
   "id": "be4ee1b0",
   "metadata": {},
   "outputs": [
    {
     "data": {
      "image/png": "[encoded data removed]",
      "text/plain": [
       "<Figure size 864x576 with 1 Axes>"
      ]
     },
     "metadata": {
      "needs_background": "light"
     },
     "output_type": "display_data"
    }
   ],
   "source": [
    "h_alpha=parameters[0]+(np.dot(parameters[1],x))+(np.dot(parameters[2],y))\n",
    "g_alpha=1/(1 + np.exp(-(h_alpha)))\n",
    "fig,ax = plt.subplots(figsize=(12,8))\n",
    "plt.scatter(h_alpha,g_alpha)\n",
    "plt.ylabel(\"G_alpha\")\n",
    "plt.xlabel(\"H_alpha\")\n",
    "plt.show()"
   ]
  },
  {
   "cell_type": "markdown",
   "id": "20118cd6",
   "metadata": {},
   "source": [
    "# Using Logistic Regression Model For Testing Data Confusion Matrix & Classification Report\n",
    "While Predicting Inbuild Function Use 0.5 as Threshold Value Because When I assigned Threshold to 0.5 was getting same confusion & classification report. (You can change the threshold value as well)"
   ]
  },
  {
   "cell_type": "code",
   "execution_count": 34,
   "id": "388bec8e",
   "metadata": {},
   "outputs": [
    {
     "name": "stderr",
     "output_type": "stream",
     "text": [
      "/opt/anaconda3/lib/python3.8/site-packages/sklearn/utils/validation.py:760: DataConversionWarning: A column-vector y was passed when a 1d array was expected. Please change the shape of y to (n_samples, ), for example using ravel().\n",
      "  y = column_or_1d(y, warn=True)\n"
     ]
    }
   ],
   "source": [
    "model = LogisticRegression(solver='lbfgs')\n",
    "y=train_data[[\"Species_d\"]]\n",
    "x=train_data[[\"SepalLengthCm\",\"SepalWidthCm\"]]\n",
    "model.fit(x,y)\n",
    "# predict probabilities\n",
    "test=test_data[[\"SepalLengthCm\",\"SepalWidthCm\"]]\n",
    "\n",
    "lr_probs = model.predict_proba(test)\n",
    "threshold=0.5\n",
    "# keep probabilities for the positive outcome only\n",
    "lr_probs = lr_probs[:, 1]\n",
    "y_pred = (lr_probs > threshold).astype(np.int8)\n",
    "y_actual=test_data[[\"Species_d\"]]"
   ]
  },
  {
   "cell_type": "code",
   "execution_count": 35,
   "id": "4d1d387c",
   "metadata": {},
   "outputs": [],
   "source": [
    "model_prediction=model.predict(test)"
   ]
  },
  {
   "cell_type": "markdown",
   "id": "94d06910",
   "metadata": {},
   "source": [
    "# Matrix at 0.5 Threshold"
   ]
  },
  {
   "cell_type": "code",
   "execution_count": 36,
   "id": "c1eb7551",
   "metadata": {},
   "outputs": [
    {
     "name": "stdout",
     "output_type": "stream",
     "text": [
      "[[16  3]\n",
      " [ 5  6]]\n",
      "              precision    recall  f1-score   support\n",
      "\n",
      "           0       0.76      0.84      0.80        19\n",
      "           1       0.67      0.55      0.60        11\n",
      "\n",
      "    accuracy                           0.73        30\n",
      "   macro avg       0.71      0.69      0.70        30\n",
      "weighted avg       0.73      0.73      0.73        30\n",
      "\n"
     ]
    }
   ],
   "source": [
    "from sklearn.metrics import confusion_matrix\n",
    "confusion_matrix = confusion_matrix(y_actual, y_pred)\n",
    "print(confusion_matrix)\n",
    "from sklearn.metrics import classification_report\n",
    "print(classification_report(y_actual, y_pred))"
   ]
  },
  {
   "cell_type": "markdown",
   "id": "1193aaf9",
   "metadata": {},
   "source": [
    "# Matrix of Inbuild Command"
   ]
  },
  {
   "cell_type": "code",
   "execution_count": 37,
   "id": "a9c8f499",
   "metadata": {},
   "outputs": [
    {
     "name": "stdout",
     "output_type": "stream",
     "text": [
      "[[16  3]\n",
      " [ 5  6]]\n",
      "              precision    recall  f1-score   support\n",
      "\n",
      "           0       0.76      0.84      0.80        19\n",
      "           1       0.67      0.55      0.60        11\n",
      "\n",
      "    accuracy                           0.73        30\n",
      "   macro avg       0.71      0.69      0.70        30\n",
      "weighted avg       0.73      0.73      0.73        30\n",
      "\n"
     ]
    }
   ],
   "source": [
    "from sklearn.metrics import confusion_matrix\n",
    "confusion_matrix = confusion_matrix(y_actual, model_prediction)\n",
    "print(confusion_matrix)\n",
    "print(classification_report(y_actual,model_prediction ))"
   ]
  },
  {
   "cell_type": "markdown",
   "id": "cb0f1d7b",
   "metadata": {},
   "source": [
    "# Gradient Descent Logistic Regression With Two Predictor & Binary Class Predicted\n",
    "Importing Data & Creating Binary Class for Predicted Variable MEDV into 0 & 1"
   ]
  },
  {
   "cell_type": "code",
   "execution_count": 38,
   "id": "f09e32a6",
   "metadata": {},
   "outputs": [
    {
     "name": "stdout",
     "output_type": "stream",
     "text": [
      "Index(['CRIM', 'ZN', 'INDUS', 'CHAS', 'NOX', 'RM', 'AGE', 'DIS', 'RAD', 'TAX',\n",
      "       'PTRATIO', 'B', 'LSTAT', 'MEDV', 'class'],\n",
      "      dtype='object')\n",
      "        CRIM    ZN  INDUS  CHAS    NOX     RM   AGE     DIS  RAD  TAX  \\\n",
      "0    0.00632  18.0   2.31     0  0.538  6.575  65.2  4.0900    1  296   \n",
      "1    0.02731   0.0   7.07     0  0.469  6.421  78.9  4.9671    2  242   \n",
      "2    0.02729   0.0   7.07     0  0.469  7.185  61.1  4.9671    2  242   \n",
      "3    0.03237   0.0   2.18     0  0.458  6.998  45.8  6.0622    3  222   \n",
      "4    0.06905   0.0   2.18     0  0.458  7.147  54.2  6.0622    3  222   \n",
      "..       ...   ...    ...   ...    ...    ...   ...     ...  ...  ...   \n",
      "501  0.06263   0.0  11.93     0  0.573  6.593  69.1  2.4786    1  273   \n",
      "502  0.04527   0.0  11.93     0  0.573  6.120  76.7  2.2875    1  273   \n",
      "503  0.06076   0.0  11.93     0  0.573  6.976  91.0  2.1675    1  273   \n",
      "504  0.10959   0.0  11.93     0  0.573  6.794  89.3  2.3889    1  273   \n",
      "505  0.04741   0.0  11.93     0  0.573  6.030  80.8  2.5050    1  273   \n",
      "\n",
      "     PTRATIO       B  LSTAT  MEDV  class  \n",
      "0       15.3  396.90   4.98  24.0      1  \n",
      "1       17.8  396.90   9.14  21.6      1  \n",
      "2       17.8  392.83   4.03  34.7      1  \n",
      "3       18.7  394.63   2.94  33.4      1  \n",
      "4       18.7  396.90   5.33  36.2      1  \n",
      "..       ...     ...    ...   ...    ...  \n",
      "501     21.0  391.99   9.67  22.4      1  \n",
      "502     21.0  396.90   9.08  20.6      1  \n",
      "503     21.0  396.90   5.64  23.9      1  \n",
      "504     21.0  393.45   6.48  22.0      1  \n",
      "505     21.0  396.90   7.88  11.9      0  \n",
      "\n",
      "[506 rows x 15 columns]\n"
     ]
    }
   ],
   "source": [
    "df=pd.read_excel(\"/Users/sunitjadeja/Desktop/TISS All Subject/Machine Learning/HousingData.xls\")\n",
    "df\n",
    "df[\"class\"]=np.where(df[\"MEDV\"]<20,\"Below 20\", \"Above 20\")\n",
    "condition= [(df[\"MEDV\"]<=20),(df[\"MEDV\"]>20)]\n",
    "values=[0,1]\n",
    "df[\"class\"]=np.select(condition,values)\n",
    "print(df.columns)\n",
    "print(df)"
   ]
  },
  {
   "cell_type": "markdown",
   "id": "6d1f18af",
   "metadata": {},
   "source": [
    "# Splitting the Data into Training & Testing & P_Value(Threshold Value)"
   ]
  },
  {
   "cell_type": "code",
   "execution_count": 39,
   "id": "fb063ae7",
   "metadata": {},
   "outputs": [],
   "source": [
    "test_size=0.20\n",
    "seed= 7\n",
    "Y_total=df[[\"class\"]]\n",
    "X_total=df[[\"RM\",\"LSTAT\", \"class\"]]\n",
    "train_data, test_data = train_test_split(X_total,test_size=test_size, random_state=seed)\n",
    "p_value=np.sum(train_data['class'])/len(train_data)\n",
    "train_data\n",
    "y_train=train_data[[\"class\"]]\n",
    "x_train=train_data[[\"RM\",\"LSTAT\"]]"
   ]
  },
  {
   "cell_type": "code",
   "execution_count": 40,
   "id": "f42c809c",
   "metadata": {},
   "outputs": [
    {
     "name": "stdout",
     "output_type": "stream",
     "text": [
      "(404,)\n",
      "(404, 2)\n"
     ]
    }
   ],
   "source": [
    "X=np.array(train_data[[\"RM\", \"LSTAT\"]])\n",
    "#X = np.c_[np.ones((404,1)),x_train]\n",
    "Y=np.array(train_data[\"class\"])\n",
    "print (Y.shape)\n",
    "print (X.shape)"
   ]
  },
  {
   "cell_type": "markdown",
   "id": "1e179ea9",
   "metadata": {},
   "source": [
    "# Gradient Descent Function for Logistic Regression "
   ]
  },
  {
   "cell_type": "code",
   "execution_count": 41,
   "id": "6a583145",
   "metadata": {},
   "outputs": [],
   "source": [
    "alpha = 0.01 #Step size\n",
    "iterations = 2000 #No. of iterations\n",
    "m = len(X) #No. of data points\n",
    "np.random.seed(456) #Set the seed\n",
    "theta_1 = np.random.rand(2)#Pick some random values to start with\n",
    "\n",
    "def gradient_descent(x, y, theta, iterations, alpha):\n",
    "    past_costs = np.zeros(shape=(iterations, 1))\n",
    "    xTrans = x.transpose()\n",
    "    for i in range(iterations):\n",
    "        hypothesis = 1.0 / (1.0 + np.exp((-1) *np.dot(x, theta)))\n",
    "        loss = hypothesis - y \n",
    "        g_alpha=hypothesis\n",
    "        cost = -((np.dot(np.transpose (y),np.log (hypothesis) + np.dot(np.transpose (1-y) ,np.log (1-hypothesis))))) / (m)\n",
    "        gradient = np.dot(xTrans, loss) / m\n",
    "        theta = theta - alpha * gradient\n",
    "        past_costs[i][0] = cost\n",
    "        \n",
    "    return theta, past_costs, g_alpha"
   ]
  },
  {
   "cell_type": "code",
   "execution_count": 42,
   "id": "bb44ed45",
   "metadata": {},
   "outputs": [
    {
     "name": "stdout",
     "output_type": "stream",
     "text": [
      "[[38.76617529]]\n",
      "0.962900435854928\n",
      "[ 0.79587435 -0.36649973]\n"
     ]
    }
   ],
   "source": [
    "theta, past_costs, g_alpha=gradient_descent(X, Y, theta_1, iterations, alpha)\n",
    "print (past_costs[-1:])\n",
    "print(g_alpha[-1])\n",
    "print (theta)"
   ]
  },
  {
   "cell_type": "markdown",
   "id": "d290b0b6",
   "metadata": {},
   "source": [
    "# Plotting cost history over iterations"
   ]
  },
  {
   "cell_type": "code",
   "execution_count": 43,
   "id": "e2bb1045",
   "metadata": {},
   "outputs": [
    {
     "data": {
      "image/png": "[encoded data removed]",
      "text/plain": [
       "<Figure size 864x576 with 1 Axes>"
      ]
     },
     "metadata": {
      "needs_background": "light"
     },
     "output_type": "display_data"
    }
   ],
   "source": [
    "fig,ax = plt.subplots(figsize=(12,8))\n",
    "\n",
    "ax.set_ylabel('Cost')\n",
    "ax.set_xlabel('Iterations')\n",
    "plt.title(\"Convergence Graph of Cost Function\")\n",
    "_=ax.plot(range(iterations),past_costs,'b.')"
   ]
  },
  {
   "cell_type": "code",
   "execution_count": 44,
   "id": "e734ceae",
   "metadata": {},
   "outputs": [
    {
     "data": {
      "image/png": "[encoded data removed]",
      "text/plain": [
       "<Figure size 720x576 with 1 Axes>"
      ]
     },
     "metadata": {
      "needs_background": "light"
     },
     "output_type": "display_data"
    }
   ],
   "source": [
    "fig,ax = plt.subplots(figsize=(10,8))\n",
    "_=ax.plot(range(20),past_costs[:20],'b.')\n"
   ]
  },
  {
   "cell_type": "code",
   "execution_count": 45,
   "id": "e6dd1dd3",
   "metadata": {},
   "outputs": [],
   "source": [
    "# keep probabilities for the positive outcome only\n",
    "y_pred = (g_alpha > p_value).astype(np.int8)\n",
    "# y_actual=test_data[[\"Species_d\"]]\n",
    "y_actual=train_data[[\"class\"]].astype(np.int8)"
   ]
  },
  {
   "cell_type": "code",
   "execution_count": 46,
   "id": "c15da0db",
   "metadata": {},
   "outputs": [
    {
     "name": "stdout",
     "output_type": "stream",
     "text": [
      "[[145  30]\n",
      " [ 40 189]]\n",
      "              precision    recall  f1-score   support\n",
      "\n",
      "           0       0.78      0.83      0.81       175\n",
      "           1       0.86      0.83      0.84       229\n",
      "\n",
      "    accuracy                           0.83       404\n",
      "   macro avg       0.82      0.83      0.82       404\n",
      "weighted avg       0.83      0.83      0.83       404\n",
      "\n"
     ]
    }
   ],
   "source": [
    "from sklearn.metrics import confusion_matrix\n",
    "confusion_matrix = confusion_matrix(y_actual,y_pred)\n",
    "print(confusion_matrix)\n",
    "print(classification_report(y_actual,y_pred))"
   ]
  },
  {
   "cell_type": "markdown",
   "id": "19c06719",
   "metadata": {},
   "source": [
    "# Gradient Descent Logistic Regression With Multiple Predictor & Binary Class Predicted"
   ]
  },
  {
   "cell_type": "code",
   "execution_count": 67,
   "id": "759841f9",
   "metadata": {},
   "outputs": [],
   "source": [
    "test_size=0.20\n",
    "seed= 7\n",
    "Y_total=df[[\"class\"]]\n",
    "X_total=df[['CRIM', 'ZN', 'INDUS', 'CHAS', 'NOX', 'RM', 'AGE', 'DIS', 'RAD', 'TAX','PTRATIO', 'B', 'LSTAT', 'MEDV',\"class\"]]\n",
    "train_data, test_data = train_test_split(X_total,test_size=test_size, random_state=seed)\n",
    "y_train_all=train_data[[\"class\"]]\n",
    "x_train_all=train_data[['CRIM', 'ZN', 'INDUS', 'CHAS', 'NOX', 'RM', 'AGE', 'DIS', 'RAD', 'TAX','PTRATIO', 'B', 'LSTAT', 'MEDV']]\n",
    "p_value=np.sum(train_data['class'])/len(train_data)\n"
   ]
  },
  {
   "cell_type": "markdown",
   "id": "c976b87d",
   "metadata": {},
   "source": [
    "# Test & Train Split"
   ]
  },
  {
   "cell_type": "code",
   "execution_count": 68,
   "id": "7d9bd9e8",
   "metadata": {},
   "outputs": [
    {
     "name": "stdout",
     "output_type": "stream",
     "text": [
      "(404,)\n",
      "(404, 15)\n"
     ]
    }
   ],
   "source": [
    "X=np.array(x_train_all[['CRIM', 'ZN', 'INDUS', 'CHAS', 'NOX', 'RM', 'AGE', 'DIS', 'RAD', 'TAX','PTRATIO', 'B', 'LSTAT', 'MEDV']])\n",
    "X_all = np.c_[np.ones((404,1)),X]\n",
    "Y_all=np.array(train_data[\"class\"])\n",
    "print (Y_all.shape)\n",
    "print (X_all.shape)"
   ]
  },
  {
   "cell_type": "markdown",
   "id": "6b338862",
   "metadata": {},
   "source": [
    "# Gradient Descent"
   ]
  },
  {
   "cell_type": "code",
   "execution_count": 49,
   "id": "f93add6b",
   "metadata": {},
   "outputs": [],
   "source": [
    "alpha = 0.01 #Step size\n",
    "iterations = 2000 #No. of iterations\n",
    "m = Y_all.size #No. of data points\n",
    "np.random.seed(456) #Set the seed\n",
    "# theta=np.zeros((X.shape[1]))\n",
    "theta = np.random.rand(15)"
   ]
  },
  {
   "cell_type": "code",
   "execution_count": 50,
   "id": "4f1405fa",
   "metadata": {},
   "outputs": [
    {
     "name": "stdout",
     "output_type": "stream",
     "text": [
      "[  0.29300159  -2.38763199   1.05419214   1.34984257   0.8191977\n",
      "   0.60159875   2.22118958  -5.57384168  -0.72559037   2.5587465\n",
      "  -0.55323185  -1.12916808   1.30202224 -12.24798735  23.07558702]\n"
     ]
    },
    {
     "name": "stderr",
     "output_type": "stream",
     "text": [
      "<ipython-input-41-72bb069e458b>:14: RuntimeWarning: divide by zero encountered in log\n",
      "  cost = -((np.dot(np.transpose (y),np.log (hypothesis) + np.dot(np.transpose (1-y) ,np.log (1-hypothesis))))) / (m)\n",
      "<ipython-input-41-72bb069e458b>:11: RuntimeWarning: overflow encountered in exp\n",
      "  hypothesis = 1.0 / (1.0 + np.exp((-1) *np.dot(x, theta)))\n"
     ]
    }
   ],
   "source": [
    "theta, past_costs, g_alpha=gradient_descent(X_all, Y_all, theta, iterations, alpha)\n",
    "print (theta)"
   ]
  },
  {
   "cell_type": "markdown",
   "id": "3fd8ea5c",
   "metadata": {},
   "source": [
    "# Confusion Matrix & Classification Report With Threshold as P_Value"
   ]
  },
  {
   "cell_type": "code",
   "execution_count": 51,
   "id": "22b64dd3",
   "metadata": {},
   "outputs": [],
   "source": [
    "# keep probabilities for the positive outcome only\n",
    "y_pred = (g_alpha > p_value).astype(np.int8)\n",
    "# y_actual=test_data[[\"Species_d\"]]\n",
    "y_actual=train_data[[\"class\"]]"
   ]
  },
  {
   "cell_type": "code",
   "execution_count": 52,
   "id": "d33ce8af",
   "metadata": {},
   "outputs": [],
   "source": [
    "# keep probabilities for the positive outcome only\n",
    "y_pred = (g_alpha > p_value).astype(np.int8)\n",
    "y_actual=train_data[[\"class\"]]"
   ]
  },
  {
   "cell_type": "code",
   "execution_count": 53,
   "id": "96118298",
   "metadata": {},
   "outputs": [
    {
     "name": "stdout",
     "output_type": "stream",
     "text": [
      "[[165  10]\n",
      " [ 71 158]]\n",
      "              precision    recall  f1-score   support\n",
      "\n",
      "           0       0.70      0.94      0.80       175\n",
      "           1       0.94      0.69      0.80       229\n",
      "\n",
      "    accuracy                           0.80       404\n",
      "   macro avg       0.82      0.82      0.80       404\n",
      "weighted avg       0.84      0.80      0.80       404\n",
      "\n"
     ]
    }
   ],
   "source": [
    "from sklearn.metrics import confusion_matrix\n",
    "confusion_matrix = confusion_matrix(y_actual, y_pred)\n",
    "print(confusion_matrix)\n",
    "from sklearn.metrics import classification_report\n",
    "print(classification_report(y_actual, y_pred))"
   ]
  },
  {
   "cell_type": "markdown",
   "id": "d32770e7",
   "metadata": {},
   "source": [
    "# Gradient Descent Logistic Regression With Multiple Predictor & Multiple Class Predicted Inbuild Function\n",
    "Creating 5 Different Classes In Two Different Columns multiclass & multi_class One For Beta Values While Other For Predictions"
   ]
  },
  {
   "cell_type": "code",
   "execution_count": 2,
   "id": "970f3929",
   "metadata": {},
   "outputs": [
    {
     "ename": "NameError",
     "evalue": "name 'df' is not defined",
     "output_type": "error",
     "traceback": [
      "\u001b[0;31m---------------------------------------------------------------------------\u001b[0m",
      "\u001b[0;31mNameError\u001b[0m                                 Traceback (most recent call last)",
      "\u001b[0;32m<ipython-input-2-07ab62041b63>\u001b[0m in \u001b[0;36m<module>\u001b[0;34m\u001b[0m\n\u001b[0;32m----> 1\u001b[0;31m \u001b[0mdf\u001b[0m\u001b[0;34m[\u001b[0m\u001b[0;34m\"multi_class\"\u001b[0m\u001b[0;34m]\u001b[0m\u001b[0;34m=\u001b[0m\u001b[0mnp\u001b[0m\u001b[0;34m.\u001b[0m\u001b[0mwhere\u001b[0m\u001b[0;34m(\u001b[0m\u001b[0mdf\u001b[0m\u001b[0;34m[\u001b[0m\u001b[0;34m\"MEDV\"\u001b[0m\u001b[0;34m]\u001b[0m\u001b[0;34m<\u001b[0m\u001b[0;36m30\u001b[0m\u001b[0;34m,\u001b[0m\u001b[0;34m\"Below 30\"\u001b[0m\u001b[0;34m,\u001b[0m \u001b[0;34m\"Above 30\"\u001b[0m\u001b[0;34m)\u001b[0m\u001b[0;34m\u001b[0m\u001b[0;34m\u001b[0m\u001b[0m\n\u001b[0m\u001b[1;32m      2\u001b[0m condition= [(df[\"MEDV\"]<=15),\n\u001b[1;32m      3\u001b[0m         \u001b[0;34m(\u001b[0m\u001b[0mdf\u001b[0m\u001b[0;34m[\u001b[0m\u001b[0;34m\"MEDV\"\u001b[0m\u001b[0;34m]\u001b[0m\u001b[0;34m>\u001b[0m\u001b[0;36m15\u001b[0m\u001b[0;34m)\u001b[0m \u001b[0;34m&\u001b[0m \u001b[0;34m(\u001b[0m\u001b[0mdf\u001b[0m\u001b[0;34m[\u001b[0m\u001b[0;34m\"MEDV\"\u001b[0m\u001b[0;34m]\u001b[0m\u001b[0;34m<=\u001b[0m\u001b[0;36m20\u001b[0m\u001b[0;34m)\u001b[0m\u001b[0;34m,\u001b[0m\u001b[0;34m\u001b[0m\u001b[0;34m\u001b[0m\u001b[0m\n\u001b[1;32m      4\u001b[0m         \u001b[0;34m(\u001b[0m\u001b[0mdf\u001b[0m\u001b[0;34m[\u001b[0m\u001b[0;34m\"MEDV\"\u001b[0m\u001b[0;34m]\u001b[0m\u001b[0;34m>\u001b[0m\u001b[0;36m20\u001b[0m\u001b[0;34m)\u001b[0m \u001b[0;34m&\u001b[0m \u001b[0;34m(\u001b[0m\u001b[0mdf\u001b[0m\u001b[0;34m[\u001b[0m\u001b[0;34m\"MEDV\"\u001b[0m\u001b[0;34m]\u001b[0m\u001b[0;34m<=\u001b[0m\u001b[0;36m25\u001b[0m\u001b[0;34m)\u001b[0m\u001b[0;34m,\u001b[0m\u001b[0;34m\u001b[0m\u001b[0;34m\u001b[0m\u001b[0m\n\u001b[1;32m      5\u001b[0m         \u001b[0;34m(\u001b[0m\u001b[0mdf\u001b[0m\u001b[0;34m[\u001b[0m\u001b[0;34m\"MEDV\"\u001b[0m\u001b[0;34m]\u001b[0m\u001b[0;34m>\u001b[0m\u001b[0;36m25\u001b[0m\u001b[0;34m)\u001b[0m \u001b[0;34m&\u001b[0m \u001b[0;34m(\u001b[0m\u001b[0mdf\u001b[0m\u001b[0;34m[\u001b[0m\u001b[0;34m\"MEDV\"\u001b[0m\u001b[0;34m]\u001b[0m\u001b[0;34m<=\u001b[0m\u001b[0;36m30\u001b[0m\u001b[0;34m)\u001b[0m\u001b[0;34m,\u001b[0m\u001b[0;34m\u001b[0m\u001b[0;34m\u001b[0m\u001b[0m\n",
      "\u001b[0;31mNameError\u001b[0m: name 'df' is not defined"
     ]
    }
   ],
   "source": [
    "df[\"multi_class\"]=np.where(df[\"MEDV\"]<30,\"Below 30\", \"Above 30\")\n",
    "condition= [(df[\"MEDV\"]<=15),\n",
    "        (df[\"MEDV\"]>15) & (df[\"MEDV\"]<=20),\n",
    "        (df[\"MEDV\"]>20) & (df[\"MEDV\"]<=25),\n",
    "        (df[\"MEDV\"]>25) & (df[\"MEDV\"]<=30),\n",
    "        (df[\"MEDV\"]>30)]\n",
    "values=[0.1,0.2,0.3,0.4,0.5]\n",
    "df[\"multi_class\"]=np.select(condition,values)\n",
    "print(df)\n",
    "df[\"multiclass\"]=np.where(df[\"MEDV\"]<30,\"Below 30\", \"Above 30\")\n",
    "condition= [(df[\"MEDV\"]<=15),\n",
    "        (df[\"MEDV\"]>15) & (df[\"MEDV\"]<=20),\n",
    "        (df[\"MEDV\"]>20) & (df[\"MEDV\"]<=25),\n",
    "        (df[\"MEDV\"]>25) & (df[\"MEDV\"]<=30),\n",
    "        (df[\"MEDV\"]>30)]\n",
    "values=[1,2,3,4,5]\n",
    "df[\"multiclass\"]=np.select(condition,values)\n",
    "print(df)"
   ]
  },
  {
   "cell_type": "markdown",
   "id": "28114cb6",
   "metadata": {},
   "source": [
    "# Test & Train Split"
   ]
  },
  {
   "cell_type": "code",
   "execution_count": 55,
   "id": "e8d33465",
   "metadata": {},
   "outputs": [],
   "source": [
    "test_size=0.30\n",
    "seed= 7\n",
    "Y_total=df[[\"multi_class\"]]\n",
    "X_total=df[[\"CHAS\",\"NOX\",\"RM\",\"AGE\",\"DIS\",  \"RAD\",\"TAX\",\"PTRATIO\",\"multi_class\",\"multiclass\"]]\n",
    "train_data, test_data = train_test_split(X_total,test_size=test_size, random_state=seed)\n",
    "#p_value=np.sum(train_data['class'])/len(train_data)"
   ]
  },
  {
   "cell_type": "code",
   "execution_count": 56,
   "id": "92dbd3a9",
   "metadata": {},
   "outputs": [],
   "source": [
    "y_train=train_data[[\"multi_class\"]]\n",
    "x_train=train_data[[\"CHAS\",\"NOX\",\"RM\",\"AGE\",\"DIS\",  \"RAD\",\"TAX\",\"PTRATIO\"]]\n",
    "# X = np.c_[np.ones((455,1)),x_train]\n",
    "# Y=np.array(y_train)"
   ]
  },
  {
   "cell_type": "markdown",
   "id": "a6e4eeae",
   "metadata": {},
   "source": [
    "# Getting Alpha Values"
   ]
  },
  {
   "cell_type": "code",
   "execution_count": 57,
   "id": "9fcb3b48",
   "metadata": {},
   "outputs": [
    {
     "name": "stdout",
     "output_type": "stream",
     "text": [
      "Optimization terminated successfully.\n",
      "         Current function value: 0.471838\n",
      "         Iterations 6\n",
      "                           Logit Regression Results                           \n",
      "==============================================================================\n",
      "Dep. Variable:            multi_class   No. Observations:                  354\n",
      "Model:                          Logit   Df Residuals:                      345\n",
      "Method:                           MLE   Df Model:                            8\n",
      "Date:                Mon, 18 Oct 2021   Pseudo R-squ.:                  -2.950\n",
      "Time:                        17:27:40   Log-Likelihood:                -167.03\n",
      "converged:                       True   LL-Null:                       -42.282\n",
      "Covariance Type:            nonrobust   LLR p-value:                     1.000\n",
      "==============================================================================\n",
      "                 coef    std err          z      P>|z|      [0.025      0.975]\n",
      "------------------------------------------------------------------------------\n",
      "const         -0.4990      2.827     -0.177      0.860      -6.039       5.041\n",
      "CHAS           0.1867      0.447      0.418      0.676      -0.689       1.062\n",
      "NOX           -1.4643      2.287     -0.640      0.522      -5.946       3.018\n",
      "RM             0.4140      0.196      2.114      0.035       0.030       0.798\n",
      "AGE           -0.0058      0.007     -0.837      0.403      -0.019       0.008\n",
      "DIS           -0.0766      0.101     -0.758      0.448      -0.274       0.121\n",
      "RAD            0.0063      0.037      0.171      0.864      -0.066       0.079\n",
      "TAX           -0.0010      0.002     -0.532      0.595      -0.005       0.003\n",
      "PTRATIO       -0.0694      0.070     -0.993      0.321      -0.206       0.067\n",
      "==============================================================================\n"
     ]
    }
   ],
   "source": [
    "X = sm.add_constant(x_train)\n",
    "model =sm.Logit(y_train, X).fit()\n",
    "print(model.summary())\n",
    "parameters=model.params\n",
    "alpha=parameters.to_numpy()\n"
   ]
  },
  {
   "cell_type": "markdown",
   "id": "515f6395",
   "metadata": {},
   "source": [
    "# Predicting The Model Confusion Matrix & Classification Report"
   ]
  },
  {
   "cell_type": "code",
   "execution_count": 58,
   "id": "cafb6f93",
   "metadata": {},
   "outputs": [
    {
     "name": "stdout",
     "output_type": "stream",
     "text": [
      "[0.00905264 0.20647008 0.4529698  0.16281901 0.16868846]\n",
      "[1 3 3 3 1 1 1 2 3 1 1 5 1 2 5 3 3 3 2 3 1 2 3 2 2 1 5 2 3 3 1 5 2 1 5 2 2\n",
      " 1 3 5 2 1 2 2 1 1 2 1 2 1 5 3 1 1 1 1 2 3 5 3 3 5 3 3 2 5 1 2 3 2 3 1 3 5\n",
      " 2 1 2 2 3 2 1 3 3 1 3 5 3 1 5 3 1 3 5 3 3 1 3 1 1 3 1 2 3 1 2 2 1 1 3 3 1\n",
      " 3 2 3 2 2 1 3 1 3 1 2 2 3 1 3 3 3 5 3 3 3 2 2 3 2 5 5 1 3 1 2 3 5 3 1 3 2\n",
      " 3 2 2 1]\n"
     ]
    },
    {
     "name": "stderr",
     "output_type": "stream",
     "text": [
      "/opt/anaconda3/lib/python3.8/site-packages/sklearn/utils/validation.py:760: DataConversionWarning: A column-vector y was passed when a 1d array was expected. Please change the shape of y to (n_samples, ), for example using ravel().\n",
      "  y = column_or_1d(y, warn=True)\n",
      "/opt/anaconda3/lib/python3.8/site-packages/sklearn/linear_model/_logistic.py:938: ConvergenceWarning: lbfgs failed to converge (status=1):\n",
      "STOP: TOTAL NO. of ITERATIONS REACHED LIMIT.\n",
      "\n",
      "Increase the number of iterations (max_iter) or scale the data as shown in:\n",
      "    https://scikit-learn.org/stable/modules/preprocessing.html\n",
      "Please also refer to the documentation for alternative solver options:\n",
      "    https://scikit-learn.org/stable/modules/linear_model.html#logistic-regression\n",
      "  n_iter_i = _check_optimize_result(\n"
     ]
    }
   ],
   "source": [
    "model = LogisticRegression(multi_class='multinomial',solver='lbfgs')\n",
    "model = LogisticRegression(solver='lbfgs')\n",
    "y=train_data[[\"multiclass\"]]\n",
    "x=train_data[[\"CHAS\",\"NOX\",\"RM\",\"AGE\",\"DIS\",  \"RAD\",\"TAX\",\"PTRATIO\"]]\n",
    "model.fit(x,y)\n",
    "test=test_data[[\"CHAS\",\"NOX\",\"RM\",\"AGE\",\"DIS\",  \"RAD\",\"TAX\",\"PTRATIO\"]]\n",
    "ta=model.predict(test)\n",
    "#predict probabilities\n",
    "test=test_data[[\"CHAS\",\"NOX\",\"RM\",\"AGE\",\"DIS\",  \"RAD\",\"TAX\",\"PTRATIO\"]]\n",
    "lr_probs = model.predict_proba(test)\n",
    "y_actual=test_data[[\"multiclass\"]]\n",
    "print(lr_probs[2])\n",
    "print(ta)"
   ]
  },
  {
   "cell_type": "code",
   "execution_count": 59,
   "id": "c68a92e1",
   "metadata": {},
   "outputs": [
    {
     "name": "stdout",
     "output_type": "stream",
     "text": [
      "[[20  7  0  0  0]\n",
      " [14 12  7  0  0]\n",
      " [ 8 16 28  0  4]\n",
      " [ 0  3  8  0  2]\n",
      " [ 2  0  9  0 12]]\n"
     ]
    }
   ],
   "source": [
    "from sklearn.metrics import confusion_matrix\n",
    "confusion_matrix = confusion_matrix(y_actual,ta)\n",
    "print(confusion_matrix)"
   ]
  },
  {
   "cell_type": "code",
   "execution_count": 60,
   "id": "9c575e24",
   "metadata": {},
   "outputs": [
    {
     "name": "stdout",
     "output_type": "stream",
     "text": [
      "              precision    recall  f1-score   support\n",
      "\n",
      "           1       0.45      0.74      0.56        27\n",
      "           2       0.32      0.36      0.34        33\n",
      "           3       0.54      0.50      0.52        56\n",
      "           4       0.00      0.00      0.00        13\n",
      "           5       0.67      0.52      0.59        23\n",
      "\n",
      "    accuracy                           0.47       152\n",
      "   macro avg       0.40      0.43      0.40       152\n",
      "weighted avg       0.45      0.47      0.45       152\n",
      "\n"
     ]
    },
    {
     "name": "stderr",
     "output_type": "stream",
     "text": [
      "/opt/anaconda3/lib/python3.8/site-packages/sklearn/metrics/_classification.py:1272: UndefinedMetricWarning: Precision and F-score are ill-defined and being set to 0.0 in labels with no predicted samples. Use `zero_division` parameter to control this behavior.\n",
      "  _warn_prf(average, modifier, msg_start, len(result))\n"
     ]
    }
   ],
   "source": [
    "print(classification_report(y_actual,ta))"
   ]
  },
  {
   "cell_type": "markdown",
   "id": "9883b65c",
   "metadata": {},
   "source": [
    "# Softmax Logistic Regression"
   ]
  },
  {
   "cell_type": "code",
   "execution_count": 2,
   "id": "86d7191f",
   "metadata": {},
   "outputs": [
    {
     "name": "stdout",
     "output_type": "stream",
     "text": [
      "        CRIM    ZN  INDUS  CHAS    NOX     RM   AGE     DIS  RAD  TAX  \\\n",
      "0    0.00632  18.0   2.31     0  0.538  6.575  65.2  4.0900    1  296   \n",
      "1    0.02731   0.0   7.07     0  0.469  6.421  78.9  4.9671    2  242   \n",
      "2    0.02729   0.0   7.07     0  0.469  7.185  61.1  4.9671    2  242   \n",
      "3    0.03237   0.0   2.18     0  0.458  6.998  45.8  6.0622    3  222   \n",
      "4    0.06905   0.0   2.18     0  0.458  7.147  54.2  6.0622    3  222   \n",
      "..       ...   ...    ...   ...    ...    ...   ...     ...  ...  ...   \n",
      "501  0.06263   0.0  11.93     0  0.573  6.593  69.1  2.4786    1  273   \n",
      "502  0.04527   0.0  11.93     0  0.573  6.120  76.7  2.2875    1  273   \n",
      "503  0.06076   0.0  11.93     0  0.573  6.976  91.0  2.1675    1  273   \n",
      "504  0.10959   0.0  11.93     0  0.573  6.794  89.3  2.3889    1  273   \n",
      "505  0.04741   0.0  11.93     0  0.573  6.030  80.8  2.5050    1  273   \n",
      "\n",
      "     PTRATIO       B  LSTAT  MEDV  multiclass  \n",
      "0       15.3  396.90   4.98  24.0           3  \n",
      "1       17.8  396.90   9.14  21.6           3  \n",
      "2       17.8  392.83   4.03  34.7           5  \n",
      "3       18.7  394.63   2.94  33.4           5  \n",
      "4       18.7  396.90   5.33  36.2           5  \n",
      "..       ...     ...    ...   ...         ...  \n",
      "501     21.0  391.99   9.67  22.4           3  \n",
      "502     21.0  396.90   9.08  20.6           3  \n",
      "503     21.0  396.90   5.64  23.9           3  \n",
      "504     21.0  393.45   6.48  22.0           3  \n",
      "505     21.0  396.90   7.88  11.9           1  \n",
      "\n",
      "[506 rows x 15 columns]\n"
     ]
    }
   ],
   "source": [
    "df=pd.read_excel(\"/Users/sunitjadeja/Desktop/TISS All Subject/Machine Learning/HousingData.xls\")\n",
    "df[\"multiclass\"]=np.where(df[\"MEDV\"]<30,\"Below 30\", \"Above 30\")\n",
    "condition= [(df[\"MEDV\"]<=15),\n",
    "        (df[\"MEDV\"]>15) & (df[\"MEDV\"]<=20),\n",
    "        (df[\"MEDV\"]>20) & (df[\"MEDV\"]<=25),\n",
    "        (df[\"MEDV\"]>25) & (df[\"MEDV\"]<=30),\n",
    "        (df[\"MEDV\"]>30)]\n",
    "values=[1,2,3,4,5]\n",
    "df[\"multiclass\"]=np.select(condition,values)\n",
    "print(df)"
   ]
  },
  {
   "cell_type": "code",
   "execution_count": 3,
   "id": "e31821f2",
   "metadata": {},
   "outputs": [
    {
     "data": {
      "text/html": [
       "<div>\n",
       "<style scoped>\n",
       "    .dataframe tbody tr th:only-of-type {\n",
       "        vertical-align: middle;\n",
       "    }\n",
       "\n",
       "    .dataframe tbody tr th {\n",
       "        vertical-align: top;\n",
       "    }\n",
       "\n",
       "    .dataframe thead th {\n",
       "        text-align: right;\n",
       "    }\n",
       "</style>\n",
       "<table border=\"1\" class=\"dataframe\">\n",
       "  <thead>\n",
       "    <tr style=\"text-align: right;\">\n",
       "      <th></th>\n",
       "      <th>CRIM</th>\n",
       "      <th>ZN</th>\n",
       "      <th>INDUS</th>\n",
       "      <th>CHAS</th>\n",
       "      <th>NOX</th>\n",
       "      <th>RM</th>\n",
       "      <th>AGE</th>\n",
       "      <th>DIS</th>\n",
       "      <th>RAD</th>\n",
       "      <th>TAX</th>\n",
       "      <th>PTRATIO</th>\n",
       "      <th>B</th>\n",
       "      <th>LSTAT</th>\n",
       "      <th>MEDV</th>\n",
       "      <th>multiclass</th>\n",
       "      <th>0</th>\n",
       "      <th>1</th>\n",
       "      <th>2</th>\n",
       "      <th>3</th>\n",
       "      <th>4</th>\n",
       "    </tr>\n",
       "  </thead>\n",
       "  <tbody>\n",
       "    <tr>\n",
       "      <th>0</th>\n",
       "      <td>0.00632</td>\n",
       "      <td>18.0</td>\n",
       "      <td>2.31</td>\n",
       "      <td>0</td>\n",
       "      <td>0.538</td>\n",
       "      <td>6.575</td>\n",
       "      <td>65.2</td>\n",
       "      <td>4.0900</td>\n",
       "      <td>1</td>\n",
       "      <td>296</td>\n",
       "      <td>15.3</td>\n",
       "      <td>396.90</td>\n",
       "      <td>4.98</td>\n",
       "      <td>24.0</td>\n",
       "      <td>3</td>\n",
       "      <td>0.0</td>\n",
       "      <td>0.0</td>\n",
       "      <td>1.0</td>\n",
       "      <td>0.0</td>\n",
       "      <td>0.0</td>\n",
       "    </tr>\n",
       "    <tr>\n",
       "      <th>1</th>\n",
       "      <td>0.02731</td>\n",
       "      <td>0.0</td>\n",
       "      <td>7.07</td>\n",
       "      <td>0</td>\n",
       "      <td>0.469</td>\n",
       "      <td>6.421</td>\n",
       "      <td>78.9</td>\n",
       "      <td>4.9671</td>\n",
       "      <td>2</td>\n",
       "      <td>242</td>\n",
       "      <td>17.8</td>\n",
       "      <td>396.90</td>\n",
       "      <td>9.14</td>\n",
       "      <td>21.6</td>\n",
       "      <td>3</td>\n",
       "      <td>0.0</td>\n",
       "      <td>0.0</td>\n",
       "      <td>1.0</td>\n",
       "      <td>0.0</td>\n",
       "      <td>0.0</td>\n",
       "    </tr>\n",
       "    <tr>\n",
       "      <th>2</th>\n",
       "      <td>0.02729</td>\n",
       "      <td>0.0</td>\n",
       "      <td>7.07</td>\n",
       "      <td>0</td>\n",
       "      <td>0.469</td>\n",
       "      <td>7.185</td>\n",
       "      <td>61.1</td>\n",
       "      <td>4.9671</td>\n",
       "      <td>2</td>\n",
       "      <td>242</td>\n",
       "      <td>17.8</td>\n",
       "      <td>392.83</td>\n",
       "      <td>4.03</td>\n",
       "      <td>34.7</td>\n",
       "      <td>5</td>\n",
       "      <td>0.0</td>\n",
       "      <td>0.0</td>\n",
       "      <td>0.0</td>\n",
       "      <td>0.0</td>\n",
       "      <td>1.0</td>\n",
       "    </tr>\n",
       "    <tr>\n",
       "      <th>3</th>\n",
       "      <td>0.03237</td>\n",
       "      <td>0.0</td>\n",
       "      <td>2.18</td>\n",
       "      <td>0</td>\n",
       "      <td>0.458</td>\n",
       "      <td>6.998</td>\n",
       "      <td>45.8</td>\n",
       "      <td>6.0622</td>\n",
       "      <td>3</td>\n",
       "      <td>222</td>\n",
       "      <td>18.7</td>\n",
       "      <td>394.63</td>\n",
       "      <td>2.94</td>\n",
       "      <td>33.4</td>\n",
       "      <td>5</td>\n",
       "      <td>0.0</td>\n",
       "      <td>0.0</td>\n",
       "      <td>0.0</td>\n",
       "      <td>0.0</td>\n",
       "      <td>1.0</td>\n",
       "    </tr>\n",
       "    <tr>\n",
       "      <th>4</th>\n",
       "      <td>0.06905</td>\n",
       "      <td>0.0</td>\n",
       "      <td>2.18</td>\n",
       "      <td>0</td>\n",
       "      <td>0.458</td>\n",
       "      <td>7.147</td>\n",
       "      <td>54.2</td>\n",
       "      <td>6.0622</td>\n",
       "      <td>3</td>\n",
       "      <td>222</td>\n",
       "      <td>18.7</td>\n",
       "      <td>396.90</td>\n",
       "      <td>5.33</td>\n",
       "      <td>36.2</td>\n",
       "      <td>5</td>\n",
       "      <td>0.0</td>\n",
       "      <td>0.0</td>\n",
       "      <td>0.0</td>\n",
       "      <td>0.0</td>\n",
       "      <td>1.0</td>\n",
       "    </tr>\n",
       "    <tr>\n",
       "      <th>...</th>\n",
       "      <td>...</td>\n",
       "      <td>...</td>\n",
       "      <td>...</td>\n",
       "      <td>...</td>\n",
       "      <td>...</td>\n",
       "      <td>...</td>\n",
       "      <td>...</td>\n",
       "      <td>...</td>\n",
       "      <td>...</td>\n",
       "      <td>...</td>\n",
       "      <td>...</td>\n",
       "      <td>...</td>\n",
       "      <td>...</td>\n",
       "      <td>...</td>\n",
       "      <td>...</td>\n",
       "      <td>...</td>\n",
       "      <td>...</td>\n",
       "      <td>...</td>\n",
       "      <td>...</td>\n",
       "      <td>...</td>\n",
       "    </tr>\n",
       "    <tr>\n",
       "      <th>501</th>\n",
       "      <td>0.06263</td>\n",
       "      <td>0.0</td>\n",
       "      <td>11.93</td>\n",
       "      <td>0</td>\n",
       "      <td>0.573</td>\n",
       "      <td>6.593</td>\n",
       "      <td>69.1</td>\n",
       "      <td>2.4786</td>\n",
       "      <td>1</td>\n",
       "      <td>273</td>\n",
       "      <td>21.0</td>\n",
       "      <td>391.99</td>\n",
       "      <td>9.67</td>\n",
       "      <td>22.4</td>\n",
       "      <td>3</td>\n",
       "      <td>0.0</td>\n",
       "      <td>0.0</td>\n",
       "      <td>1.0</td>\n",
       "      <td>0.0</td>\n",
       "      <td>0.0</td>\n",
       "    </tr>\n",
       "    <tr>\n",
       "      <th>502</th>\n",
       "      <td>0.04527</td>\n",
       "      <td>0.0</td>\n",
       "      <td>11.93</td>\n",
       "      <td>0</td>\n",
       "      <td>0.573</td>\n",
       "      <td>6.120</td>\n",
       "      <td>76.7</td>\n",
       "      <td>2.2875</td>\n",
       "      <td>1</td>\n",
       "      <td>273</td>\n",
       "      <td>21.0</td>\n",
       "      <td>396.90</td>\n",
       "      <td>9.08</td>\n",
       "      <td>20.6</td>\n",
       "      <td>3</td>\n",
       "      <td>0.0</td>\n",
       "      <td>0.0</td>\n",
       "      <td>1.0</td>\n",
       "      <td>0.0</td>\n",
       "      <td>0.0</td>\n",
       "    </tr>\n",
       "    <tr>\n",
       "      <th>503</th>\n",
       "      <td>0.06076</td>\n",
       "      <td>0.0</td>\n",
       "      <td>11.93</td>\n",
       "      <td>0</td>\n",
       "      <td>0.573</td>\n",
       "      <td>6.976</td>\n",
       "      <td>91.0</td>\n",
       "      <td>2.1675</td>\n",
       "      <td>1</td>\n",
       "      <td>273</td>\n",
       "      <td>21.0</td>\n",
       "      <td>396.90</td>\n",
       "      <td>5.64</td>\n",
       "      <td>23.9</td>\n",
       "      <td>3</td>\n",
       "      <td>0.0</td>\n",
       "      <td>0.0</td>\n",
       "      <td>1.0</td>\n",
       "      <td>0.0</td>\n",
       "      <td>0.0</td>\n",
       "    </tr>\n",
       "    <tr>\n",
       "      <th>504</th>\n",
       "      <td>0.10959</td>\n",
       "      <td>0.0</td>\n",
       "      <td>11.93</td>\n",
       "      <td>0</td>\n",
       "      <td>0.573</td>\n",
       "      <td>6.794</td>\n",
       "      <td>89.3</td>\n",
       "      <td>2.3889</td>\n",
       "      <td>1</td>\n",
       "      <td>273</td>\n",
       "      <td>21.0</td>\n",
       "      <td>393.45</td>\n",
       "      <td>6.48</td>\n",
       "      <td>22.0</td>\n",
       "      <td>3</td>\n",
       "      <td>0.0</td>\n",
       "      <td>0.0</td>\n",
       "      <td>1.0</td>\n",
       "      <td>0.0</td>\n",
       "      <td>0.0</td>\n",
       "    </tr>\n",
       "    <tr>\n",
       "      <th>505</th>\n",
       "      <td>0.04741</td>\n",
       "      <td>0.0</td>\n",
       "      <td>11.93</td>\n",
       "      <td>0</td>\n",
       "      <td>0.573</td>\n",
       "      <td>6.030</td>\n",
       "      <td>80.8</td>\n",
       "      <td>2.5050</td>\n",
       "      <td>1</td>\n",
       "      <td>273</td>\n",
       "      <td>21.0</td>\n",
       "      <td>396.90</td>\n",
       "      <td>7.88</td>\n",
       "      <td>11.9</td>\n",
       "      <td>1</td>\n",
       "      <td>1.0</td>\n",
       "      <td>0.0</td>\n",
       "      <td>0.0</td>\n",
       "      <td>0.0</td>\n",
       "      <td>0.0</td>\n",
       "    </tr>\n",
       "  </tbody>\n",
       "</table>\n",
       "<p>506 rows × 20 columns</p>\n",
       "</div>"
      ],
      "text/plain": [
       "        CRIM    ZN  INDUS  CHAS    NOX     RM   AGE     DIS  RAD  TAX  \\\n",
       "0    0.00632  18.0   2.31     0  0.538  6.575  65.2  4.0900    1  296   \n",
       "1    0.02731   0.0   7.07     0  0.469  6.421  78.9  4.9671    2  242   \n",
       "2    0.02729   0.0   7.07     0  0.469  7.185  61.1  4.9671    2  242   \n",
       "3    0.03237   0.0   2.18     0  0.458  6.998  45.8  6.0622    3  222   \n",
       "4    0.06905   0.0   2.18     0  0.458  7.147  54.2  6.0622    3  222   \n",
       "..       ...   ...    ...   ...    ...    ...   ...     ...  ...  ...   \n",
       "501  0.06263   0.0  11.93     0  0.573  6.593  69.1  2.4786    1  273   \n",
       "502  0.04527   0.0  11.93     0  0.573  6.120  76.7  2.2875    1  273   \n",
       "503  0.06076   0.0  11.93     0  0.573  6.976  91.0  2.1675    1  273   \n",
       "504  0.10959   0.0  11.93     0  0.573  6.794  89.3  2.3889    1  273   \n",
       "505  0.04741   0.0  11.93     0  0.573  6.030  80.8  2.5050    1  273   \n",
       "\n",
       "     PTRATIO       B  LSTAT  MEDV  multiclass    0    1    2    3    4  \n",
       "0       15.3  396.90   4.98  24.0           3  0.0  0.0  1.0  0.0  0.0  \n",
       "1       17.8  396.90   9.14  21.6           3  0.0  0.0  1.0  0.0  0.0  \n",
       "2       17.8  392.83   4.03  34.7           5  0.0  0.0  0.0  0.0  1.0  \n",
       "3       18.7  394.63   2.94  33.4           5  0.0  0.0  0.0  0.0  1.0  \n",
       "4       18.7  396.90   5.33  36.2           5  0.0  0.0  0.0  0.0  1.0  \n",
       "..       ...     ...    ...   ...         ...  ...  ...  ...  ...  ...  \n",
       "501     21.0  391.99   9.67  22.4           3  0.0  0.0  1.0  0.0  0.0  \n",
       "502     21.0  396.90   9.08  20.6           3  0.0  0.0  1.0  0.0  0.0  \n",
       "503     21.0  396.90   5.64  23.9           3  0.0  0.0  1.0  0.0  0.0  \n",
       "504     21.0  393.45   6.48  22.0           3  0.0  0.0  1.0  0.0  0.0  \n",
       "505     21.0  396.90   7.88  11.9           1  1.0  0.0  0.0  0.0  0.0  \n",
       "\n",
       "[506 rows x 20 columns]"
      ]
     },
     "execution_count": 3,
     "metadata": {},
     "output_type": "execute_result"
    }
   ],
   "source": [
    "# creating instance of one-hot-encoder\n",
    "enc = OneHotEncoder(handle_unknown='ignore')\n",
    "# passing multiclass column (label encoded values of multiclass)\n",
    "enc_df = pd.DataFrame(enc.fit_transform(df[['multiclass']]).toarray())\n",
    "# merge with main df with new columns of binary on key values\n",
    "df =df.join(enc_df)\n",
    "df"
   ]
  },
  {
   "cell_type": "code",
   "execution_count": 4,
   "id": "139f71bc",
   "metadata": {},
   "outputs": [
    {
     "data": {
      "text/plain": [
       "Index([      'CRIM',         'ZN',      'INDUS',       'CHAS',        'NOX',\n",
       "               'RM',        'AGE',        'DIS',        'RAD',        'TAX',\n",
       "          'PTRATIO',          'B',      'LSTAT',       'MEDV', 'multiclass',\n",
       "                  0,            1,            2,            3,            4],\n",
       "      dtype='object')"
      ]
     },
     "execution_count": 4,
     "metadata": {},
     "output_type": "execute_result"
    }
   ],
   "source": [
    "test_size=0.20\n",
    "seed= 7\n",
    "#Y_total=df[[\"multiclass\"]]\n",
    "#X_total=df[['CRIM','ZN','INDUS',\"CHAS\",\"NOX\",\"RM\",\"AGE\",\"DIS\",\"RAD\",\"TAX\",\"PTRATIO\",\"B\",\"LSTAT\",\"multiclass\"]]\n",
    "train_data, test_data = train_test_split(df,test_size=test_size, random_state=seed)\n",
    "train_data.columns"
   ]
  },
  {
   "cell_type": "code",
   "execution_count": 5,
   "id": "f3656135",
   "metadata": {},
   "outputs": [
    {
     "data": {
      "text/plain": [
       "(404, 8)"
      ]
     },
     "execution_count": 5,
     "metadata": {},
     "output_type": "execute_result"
    }
   ],
   "source": [
    "#X=np.array(train_data[[\"CHAS\",\"NOX\",\"RM\",\"AGE\",\"DIS\",\"RAD\",\"PTRATIO\"]])\n",
    "X=np.array(train_data[[\"CHAS\",\"NOX\",\"RM\",\"AGE\",\"DIS\",\"RAD\",\"PTRATIO\"]])\n",
    "#X=np.array(train_data[[\"CRIM\",\"ZN\",\"INDUS\",\"CHAS\",\"NOX\",\"RM\",\"AGE\",\"DIS\",\"RAD\",\"PTRATIO\",\"B\",\"LSTAT\"]])\n",
    "X_train = np.c_[np.ones((404,1)),X]\n",
    "Y_train1=np.array(train_data[0])\n",
    "Y_train2=np.array(train_data[1])\n",
    "Y_train3=np.array(train_data[2])\n",
    "Y_train4=np.array(train_data[3])\n",
    "Y_train5=np.array(train_data[4])\n",
    "X_train.shape"
   ]
  },
  {
   "cell_type": "code",
   "execution_count": 15,
   "id": "7befc0dc",
   "metadata": {},
   "outputs": [],
   "source": [
    "alpha = 0.01 #Step size\n",
    "iterations = 2000 #No. of iterations\n",
    "#m = len(X) #No. of data points\n",
    "np.random.seed(456) #Set the seed\n",
    "theta = np.random.rand(8)#Pick some random values to start with\n",
    "\n",
    "def softmax_gradient_descent(x, y, theta, iterations, alpha):\n",
    "    past_costs = np.zeros(shape=(iterations, 1))\n",
    "    xTrans = x.transpose()\n",
    "    m=len(x)\n",
    "    for i in range(iterations):\n",
    "        hypothesis = 1.0 / (1.0 + np.exp((-1) *np.dot(x, theta)))\n",
    "        loss = hypothesis - y \n",
    "        w=rankdata(loss**2,method=\"max\")\n",
    "        w=w\n",
    "        cost = sum(w*(loss)**2)/(2*m)\n",
    "        gradient= (np.dot(xTrans, loss))\n",
    "        theta = theta - (alpha * (1/m)* np.dot(xTrans,(hypothesis - y)*w))\n",
    "        past_costs[i][0] = cost\n",
    "        g_alpha=hypothesis\n",
    "        \n",
    "    return theta, past_costs, g_alpha,w"
   ]
  },
  {
   "cell_type": "code",
   "execution_count": 6,
   "id": "e7fce5ad",
   "metadata": {},
   "outputs": [],
   "source": [
    "alpha = 0.01 #Step size\n",
    "iterations = 2000 #No. of iterations\n",
    "#m = len(X) #No. of data points\n",
    "np.random.seed(456) #Set the seed\n",
    "theta = np.random.rand(8)#Pick some random values to start with\n",
    "\n",
    "def softmax_gradient_descent(x, y, theta, iterations, alpha):\n",
    "    past_costs = np.zeros(shape=(iterations, 1))\n",
    "    xTrans = x.transpose()\n",
    "    m=len(x)\n",
    "    for i in range(iterations):\n",
    "        hypothesis = 1.0 / (1.0 + np.exp((-1) *np.dot(x, theta)))\n",
    "        loss = hypothesis - y \n",
    "        w=rankdata(loss**2,method=\"max\")\n",
    "        w=w\n",
    "        g_alpha=hypothesis\n",
    "        cost = sum(w*(loss)**2)/(2*m)\n",
    "        gradient= (np.dot(xTrans, loss))\n",
    "        theta = theta - (alpha * (1/m) * ((gradient)))\n",
    "        past_costs[i][0] = cost\n",
    "        \n",
    "    return theta, past_costs, g_alpha,w"
   ]
  },
  {
   "cell_type": "code",
   "execution_count": 7,
   "id": "ddc1c964",
   "metadata": {},
   "outputs": [],
   "source": [
    "theta, past_costs, g_alpha,w=softmax_gradient_descent(X_train, Y_train1, theta, iterations, alpha)\n",
    "class1=g_alpha\n",
    "theta, past_costs, g_alpha,w=softmax_gradient_descent(X_train, Y_train2, theta, iterations, alpha)\n",
    "class2=g_alpha\n",
    "theta, past_costs, g_alpha,w=softmax_gradient_descent(X_train, Y_train3, theta, iterations, alpha)\n",
    "class3=g_alpha\n",
    "theta, past_costs, g_alpha,w=softmax_gradient_descent(X_train, Y_train4, theta, iterations, alpha)\n",
    "class4=g_alpha\n",
    "theta, past_costs, g_alpha,w=softmax_gradient_descent(X_train, Y_train5, theta, iterations, alpha)\n",
    "class5=g_alpha"
   ]
  },
  {
   "cell_type": "code",
   "execution_count": 8,
   "id": "e554bd09",
   "metadata": {},
   "outputs": [],
   "source": [
    "p_matrix=np.stack([class1,class2,class3,class4,class5],axis=1)\n",
    "p_matrix\n",
    "p_matrix_df = pd.DataFrame(p_matrix,columns = [1,2,3,4,5])\n",
    "p_matrix_df\n",
    "predicted_values=p_matrix_df.idxmax(axis=1)\n",
    "y_actual=train_data[['multiclass']]"
   ]
  },
  {
   "cell_type": "code",
   "execution_count": 9,
   "id": "df62e6b4",
   "metadata": {},
   "outputs": [
    {
     "name": "stdout",
     "output_type": "stream",
     "text": [
      "[[61 19  0  0  0]\n",
      " [16 76  2  1  0]\n",
      " [13 92 18  3  2]\n",
      " [ 4 16  5  2  5]\n",
      " [ 3 27  3  3 33]]\n",
      "              precision    recall  f1-score   support\n",
      "\n",
      "           1       0.63      0.76      0.69        80\n",
      "           2       0.33      0.80      0.47        95\n",
      "           3       0.64      0.14      0.23       128\n",
      "           4       0.22      0.06      0.10        32\n",
      "           5       0.82      0.48      0.61        69\n",
      "\n",
      "    accuracy                           0.47       404\n",
      "   macro avg       0.53      0.45      0.42       404\n",
      "weighted avg       0.56      0.47      0.43       404\n",
      "\n"
     ]
    }
   ],
   "source": [
    "from sklearn.metrics import confusion_matrix\n",
    "confusion_matrix = confusion_matrix(y_actual,predicted_values)\n",
    "print(confusion_matrix)\n",
    "print(classification_report(y_actual,predicted_values))"
   ]
  },
  {
   "cell_type": "code",
   "execution_count": null,
   "id": "afed7330",
   "metadata": {},
   "outputs": [],
   "source": []
  }
 ],
 "metadata": {
  "kernelspec": {
   "display_name": "Python 3",
   "language": "python",
   "name": "python3"
  },
  "language_info": {
   "codemirror_mode": {
    "name": "ipython",
    "version": 3
   },
   "file_extension": ".py",
   "mimetype": "text/x-python",
   "name": "python",
   "nbconvert_exporter": "python",
   "pygments_lexer": "ipython3",
   "version": "3.8.3"
  }
 },
 "nbformat": 4,
 "nbformat_minor": 5
}
